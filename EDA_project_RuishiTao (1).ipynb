{
  "nbformat": 4,
  "nbformat_minor": 0,
  "metadata": {
    "colab": {
      "name": "EDA_project_RuishiTao.ipynb",
      "provenance": [],
      "collapsed_sections": []
    },
    "kernelspec": {
      "display_name": "Python 3",
      "language": "python",
      "name": "python3"
    },
    "language_info": {
      "codemirror_mode": {
        "name": "ipython",
        "version": 3
      },
      "file_extension": ".py",
      "mimetype": "text/x-python",
      "name": "python",
      "nbconvert_exporter": "python",
      "pygments_lexer": "ipython3",
      "version": "3.8.5"
    },
    "toc": {
      "base_numbering": 1,
      "nav_menu": {},
      "number_sections": true,
      "sideBar": true,
      "skip_h1_title": false,
      "title_cell": "Table of Contents",
      "title_sidebar": "Contents",
      "toc_cell": false,
      "toc_position": {},
      "toc_section_display": true,
      "toc_window_display": true
    }
  },
  "cells": [
    {
      "cell_type": "markdown",
      "metadata": {
        "id": "x6tRiUy_kwnU"
      },
      "source": [
        ""
      ]
    },
    {
      "cell_type": "markdown",
      "metadata": {
        "id": "I3vzN14CkzXA"
      },
      "source": [
        "> Dataset can be found in kaggle\n",
        "https://www.kaggle.com/mariaren/covid19-healthy-diet-dataset</p>\n",
        "> Dataset copy can also found in drive：\n",
        "https://drive.google.com/drive/u/0/folders/18cpebVnkuyhYq7a9ALHf-pxDClJxiaiW"
      ]
    },
    {
      "cell_type": "markdown",
      "metadata": {
        "id": "6j96PwVJl7Yv"
      },
      "source": [
        "I am going to do a data analysis using the dataset-`Covid-19 Health Diet Dataset`. My goal is to compare US with the country with lower confirmed in order to figure out the diet structure differences of the two countries I selected. I will try to get a conclusion on which country has a healthier diet structure which may be able to fight against the pandemic. Furthermore, I will explore the diet structure differences between countries with lower confirmed rates and higher confirmed rates, which involves most of the countries in the dataset."
      ]
    },
    {
      "cell_type": "code",
      "metadata": {
        "id": "F1qmE73td-Xi"
      },
      "source": [
        "# Importing required libraries\n",
        "import pandas as pd\n",
        "import numpy as np\n",
        "import seaborn as sns\n",
        "import matplotlib as mpl\n",
        "import matplotlib.pyplot as plt\n",
        "from matplotlib.patches import ConnectionPatch\n",
        "import warnings\n",
        "\n",
        "warnings.filterwarnings('ignore')"
      ],
      "execution_count": null,
      "outputs": []
    },
    {
      "cell_type": "markdown",
      "metadata": {
        "id": "L-Te9jBM-6Jm"
      },
      "source": [
        "# Dataset Introduction"
      ]
    },
    {
      "cell_type": "markdown",
      "metadata": {
        "id": "NA4pEy4s-6Jm"
      },
      "source": [
        "This dataset consists of data of different types of food, world population obesity and undernourished rate, and global COVID-19 cases count from around the world in order to learn more about how a healthy eating style could help combat the Corona Virus. The data is stored in four csv files, including fat quantity, energy intake (kcal), food supply quantity (kg), and protein for different categories of food (all calculated as percentage of total intake amount). The obesity and undernourished rate (also in percentage) are also added in each file for comparison. The end of the datasets also included the most up to date confirmed/deaths/recovered/active cases (also in percentage of current population for each country). And from the dataset, we hope gather information regarding diet patterns from countries with lower COVID infection rate, and adjust our own diet accordingly. "
      ]
    },
    {
      "cell_type": "markdown",
      "metadata": {
        "id": "gwCKslUT-6Jn"
      },
      "source": [
        "Next we will start the exploration by first examining the shape and structure of the data. What dimensions/variables does it contain and how are the data values distributed? Are there any notable data quality issues? Find out if there are missing values in the data and think of how I can handle them. "
      ]
    },
    {
      "cell_type": "markdown",
      "metadata": {
        "id": "HKkCzS4U-6Jn"
      },
      "source": [
        "## Fat Supply Quantity Data"
      ]
    },
    {
      "cell_type": "markdown",
      "metadata": {
        "id": "PkQnYrFg-6Jn"
      },
      "source": [
        "This dataset includes percentage of fat intake from different types of food in countries around the world. The last couple of columns also includes counts of obesity, undernourished, and COVID-19 cases as percentages of the total population for comparison purposes. "
      ]
    },
    {
      "cell_type": "code",
      "metadata": {
        "id": "xVDxyUa_j00i"
      },
      "source": [
        "## read file\n",
        "dfFat=pd.read_csv('Fat_Supply_Quantity_Data.csv')"
      ],
      "execution_count": null,
      "outputs": []
    },
    {
      "cell_type": "code",
      "metadata": {
        "colab": {
          "base_uri": "https://localhost:8080/"
        },
        "id": "ifjVp6Vkv8LO",
        "outputId": "373c4e6e-5ff3-4210-a992-105a3afacc46"
      },
      "source": [
        "dfFat.shape"
      ],
      "execution_count": null,
      "outputs": [
        {
          "output_type": "execute_result",
          "data": {
            "text/plain": [
              "(170, 32)"
            ]
          },
          "metadata": {
            "tags": []
          },
          "execution_count": 486
        }
      ]
    },
    {
      "cell_type": "code",
      "metadata": {
        "colab": {
          "base_uri": "https://localhost:8080/",
          "height": 292
        },
        "id": "p8jrdEGBgzFi",
        "outputId": "cf145505-2d17-40d3-db64-e6b50a654113"
      },
      "source": [
        "# find out the data structure of Fat_Supply_Quantity_Data\n",
        "dfFat.head()"
      ],
      "execution_count": null,
      "outputs": [
        {
          "output_type": "execute_result",
          "data": {
            "text/html": [
              "<div>\n",
              "<style scoped>\n",
              "    .dataframe tbody tr th:only-of-type {\n",
              "        vertical-align: middle;\n",
              "    }\n",
              "\n",
              "    .dataframe tbody tr th {\n",
              "        vertical-align: top;\n",
              "    }\n",
              "\n",
              "    .dataframe thead th {\n",
              "        text-align: right;\n",
              "    }\n",
              "</style>\n",
              "<table border=\"1\" class=\"dataframe\">\n",
              "  <thead>\n",
              "    <tr style=\"text-align: right;\">\n",
              "      <th></th>\n",
              "      <th>Country</th>\n",
              "      <th>Alcoholic Beverages</th>\n",
              "      <th>Animal Products</th>\n",
              "      <th>Animal fats</th>\n",
              "      <th>Aquatic Products, Other</th>\n",
              "      <th>Cereals - Excluding Beer</th>\n",
              "      <th>Eggs</th>\n",
              "      <th>Fish, Seafood</th>\n",
              "      <th>Fruits - Excluding Wine</th>\n",
              "      <th>Meat</th>\n",
              "      <th>...</th>\n",
              "      <th>Vegetable Oils</th>\n",
              "      <th>Vegetables</th>\n",
              "      <th>Obesity</th>\n",
              "      <th>Undernourished</th>\n",
              "      <th>Confirmed</th>\n",
              "      <th>Deaths</th>\n",
              "      <th>Recovered</th>\n",
              "      <th>Active</th>\n",
              "      <th>Population</th>\n",
              "      <th>Unit (all except Population)</th>\n",
              "    </tr>\n",
              "  </thead>\n",
              "  <tbody>\n",
              "    <tr>\n",
              "      <th>0</th>\n",
              "      <td>Afghanistan</td>\n",
              "      <td>0.0</td>\n",
              "      <td>21.6397</td>\n",
              "      <td>6.2224</td>\n",
              "      <td>0.0</td>\n",
              "      <td>8.0353</td>\n",
              "      <td>0.6859</td>\n",
              "      <td>0.0327</td>\n",
              "      <td>0.4246</td>\n",
              "      <td>6.1244</td>\n",
              "      <td>...</td>\n",
              "      <td>17.0831</td>\n",
              "      <td>0.3593</td>\n",
              "      <td>4.5</td>\n",
              "      <td>29.8</td>\n",
              "      <td>0.142134</td>\n",
              "      <td>0.006186</td>\n",
              "      <td>0.123374</td>\n",
              "      <td>0.012574</td>\n",
              "      <td>38928000.0</td>\n",
              "      <td>%</td>\n",
              "    </tr>\n",
              "    <tr>\n",
              "      <th>1</th>\n",
              "      <td>Albania</td>\n",
              "      <td>0.0</td>\n",
              "      <td>32.0002</td>\n",
              "      <td>3.4172</td>\n",
              "      <td>0.0</td>\n",
              "      <td>2.6734</td>\n",
              "      <td>1.6448</td>\n",
              "      <td>0.1445</td>\n",
              "      <td>0.6418</td>\n",
              "      <td>8.7428</td>\n",
              "      <td>...</td>\n",
              "      <td>9.2443</td>\n",
              "      <td>0.6503</td>\n",
              "      <td>22.3</td>\n",
              "      <td>6.2</td>\n",
              "      <td>2.967301</td>\n",
              "      <td>0.050951</td>\n",
              "      <td>1.792636</td>\n",
              "      <td>1.123714</td>\n",
              "      <td>2838000.0</td>\n",
              "      <td>%</td>\n",
              "    </tr>\n",
              "    <tr>\n",
              "      <th>2</th>\n",
              "      <td>Algeria</td>\n",
              "      <td>0.0</td>\n",
              "      <td>14.4175</td>\n",
              "      <td>0.8972</td>\n",
              "      <td>0.0</td>\n",
              "      <td>4.2035</td>\n",
              "      <td>1.2171</td>\n",
              "      <td>0.2008</td>\n",
              "      <td>0.5772</td>\n",
              "      <td>3.8961</td>\n",
              "      <td>...</td>\n",
              "      <td>27.3606</td>\n",
              "      <td>0.5145</td>\n",
              "      <td>26.6</td>\n",
              "      <td>3.9</td>\n",
              "      <td>0.244897</td>\n",
              "      <td>0.006558</td>\n",
              "      <td>0.167572</td>\n",
              "      <td>0.070767</td>\n",
              "      <td>44357000.0</td>\n",
              "      <td>%</td>\n",
              "    </tr>\n",
              "    <tr>\n",
              "      <th>3</th>\n",
              "      <td>Angola</td>\n",
              "      <td>0.0</td>\n",
              "      <td>15.3041</td>\n",
              "      <td>1.3130</td>\n",
              "      <td>0.0</td>\n",
              "      <td>6.5545</td>\n",
              "      <td>0.1539</td>\n",
              "      <td>1.4155</td>\n",
              "      <td>0.3488</td>\n",
              "      <td>11.0268</td>\n",
              "      <td>...</td>\n",
              "      <td>22.4638</td>\n",
              "      <td>0.1231</td>\n",
              "      <td>6.8</td>\n",
              "      <td>25</td>\n",
              "      <td>0.061687</td>\n",
              "      <td>0.001461</td>\n",
              "      <td>0.056808</td>\n",
              "      <td>0.003419</td>\n",
              "      <td>32522000.0</td>\n",
              "      <td>%</td>\n",
              "    </tr>\n",
              "    <tr>\n",
              "      <th>4</th>\n",
              "      <td>Antigua and Barbuda</td>\n",
              "      <td>0.0</td>\n",
              "      <td>27.7033</td>\n",
              "      <td>4.6686</td>\n",
              "      <td>0.0</td>\n",
              "      <td>3.2153</td>\n",
              "      <td>0.3872</td>\n",
              "      <td>1.5263</td>\n",
              "      <td>1.2177</td>\n",
              "      <td>14.3202</td>\n",
              "      <td>...</td>\n",
              "      <td>14.4436</td>\n",
              "      <td>0.2469</td>\n",
              "      <td>19.1</td>\n",
              "      <td>NaN</td>\n",
              "      <td>0.293878</td>\n",
              "      <td>0.007143</td>\n",
              "      <td>0.190816</td>\n",
              "      <td>0.095918</td>\n",
              "      <td>98000.0</td>\n",
              "      <td>%</td>\n",
              "    </tr>\n",
              "  </tbody>\n",
              "</table>\n",
              "<p>5 rows × 32 columns</p>\n",
              "</div>"
            ],
            "text/plain": [
              "               Country  Alcoholic Beverages  Animal Products  Animal fats  \\\n",
              "0          Afghanistan                  0.0          21.6397       6.2224   \n",
              "1              Albania                  0.0          32.0002       3.4172   \n",
              "2              Algeria                  0.0          14.4175       0.8972   \n",
              "3               Angola                  0.0          15.3041       1.3130   \n",
              "4  Antigua and Barbuda                  0.0          27.7033       4.6686   \n",
              "\n",
              "   Aquatic Products, Other  Cereals - Excluding Beer    Eggs  Fish, Seafood  \\\n",
              "0                      0.0                    8.0353  0.6859         0.0327   \n",
              "1                      0.0                    2.6734  1.6448         0.1445   \n",
              "2                      0.0                    4.2035  1.2171         0.2008   \n",
              "3                      0.0                    6.5545  0.1539         1.4155   \n",
              "4                      0.0                    3.2153  0.3872         1.5263   \n",
              "\n",
              "   Fruits - Excluding Wine     Meat  ...  Vegetable Oils  Vegetables  Obesity  \\\n",
              "0                   0.4246   6.1244  ...         17.0831      0.3593      4.5   \n",
              "1                   0.6418   8.7428  ...          9.2443      0.6503     22.3   \n",
              "2                   0.5772   3.8961  ...         27.3606      0.5145     26.6   \n",
              "3                   0.3488  11.0268  ...         22.4638      0.1231      6.8   \n",
              "4                   1.2177  14.3202  ...         14.4436      0.2469     19.1   \n",
              "\n",
              "   Undernourished  Confirmed    Deaths  Recovered    Active  Population  \\\n",
              "0            29.8   0.142134  0.006186   0.123374  0.012574  38928000.0   \n",
              "1             6.2   2.967301  0.050951   1.792636  1.123714   2838000.0   \n",
              "2             3.9   0.244897  0.006558   0.167572  0.070767  44357000.0   \n",
              "3              25   0.061687  0.001461   0.056808  0.003419  32522000.0   \n",
              "4             NaN   0.293878  0.007143   0.190816  0.095918     98000.0   \n",
              "\n",
              "   Unit (all except Population)  \n",
              "0                             %  \n",
              "1                             %  \n",
              "2                             %  \n",
              "3                             %  \n",
              "4                             %  \n",
              "\n",
              "[5 rows x 32 columns]"
            ]
          },
          "metadata": {
            "tags": []
          },
          "execution_count": 487
        }
      ]
    },
    {
      "cell_type": "code",
      "metadata": {
        "colab": {
          "base_uri": "https://localhost:8080/"
        },
        "id": "gJHJaftowFdb",
        "outputId": "65c40114-fc51-4251-ae62-42ddc3769a8d"
      },
      "source": [
        "dfFat.info()"
      ],
      "execution_count": null,
      "outputs": [
        {
          "output_type": "stream",
          "text": [
            "<class 'pandas.core.frame.DataFrame'>\n",
            "RangeIndex: 170 entries, 0 to 169\n",
            "Data columns (total 32 columns):\n",
            " #   Column                        Non-Null Count  Dtype  \n",
            "---  ------                        --------------  -----  \n",
            " 0   Country                       170 non-null    object \n",
            " 1   Alcoholic Beverages           170 non-null    float64\n",
            " 2   Animal Products               170 non-null    float64\n",
            " 3   Animal fats                   170 non-null    float64\n",
            " 4   Aquatic Products, Other       170 non-null    float64\n",
            " 5   Cereals - Excluding Beer      170 non-null    float64\n",
            " 6   Eggs                          170 non-null    float64\n",
            " 7   Fish, Seafood                 170 non-null    float64\n",
            " 8   Fruits - Excluding Wine       170 non-null    float64\n",
            " 9   Meat                          170 non-null    float64\n",
            " 10  Miscellaneous                 170 non-null    float64\n",
            " 11  Milk - Excluding Butter       170 non-null    float64\n",
            " 12  Offals                        170 non-null    float64\n",
            " 13  Oilcrops                      170 non-null    float64\n",
            " 14  Pulses                        170 non-null    float64\n",
            " 15  Spices                        170 non-null    float64\n",
            " 16  Starchy Roots                 170 non-null    float64\n",
            " 17  Stimulants                    170 non-null    float64\n",
            " 18  Sugar Crops                   170 non-null    float64\n",
            " 19  Sugar & Sweeteners            170 non-null    float64\n",
            " 20  Treenuts                      170 non-null    float64\n",
            " 21  Vegetal Products              170 non-null    float64\n",
            " 22  Vegetable Oils                170 non-null    float64\n",
            " 23  Vegetables                    170 non-null    float64\n",
            " 24  Obesity                       167 non-null    float64\n",
            " 25  Undernourished                163 non-null    object \n",
            " 26  Confirmed                     164 non-null    float64\n",
            " 27  Deaths                        164 non-null    float64\n",
            " 28  Recovered                     164 non-null    float64\n",
            " 29  Active                        162 non-null    float64\n",
            " 30  Population                    170 non-null    float64\n",
            " 31  Unit (all except Population)  170 non-null    object \n",
            "dtypes: float64(29), object(3)\n",
            "memory usage: 42.6+ KB\n"
          ],
          "name": "stdout"
        }
      ]
    },
    {
      "cell_type": "markdown",
      "metadata": {
        "id": "sDmYvTvy-6Jq"
      },
      "source": [
        "## Food Supply Quantity(kg) Data"
      ]
    },
    {
      "cell_type": "markdown",
      "metadata": {
        "id": "bn_ZZQjg-6Jq"
      },
      "source": [
        "This dataset includes percentage of food intake (kg) in countries around the world. The last couple of columns also includes counts of obesity, undernourished, and COVID-19 cases as percentages of the total population for comparison purposes."
      ]
    },
    {
      "cell_type": "code",
      "metadata": {
        "colab": {
          "base_uri": "https://localhost:8080/",
          "height": 292
        },
        "id": "S9hGzPWfwxhk",
        "outputId": "9eb162ed-eb10-4327-8838-c805258ab289"
      },
      "source": [
        "#data structure for Food_Supply_Quantity_kg_Data\n",
        "dfFoodQ=pd.read_csv('Food_Supply_Quantity_kg_Data.csv')\n",
        "dfFoodQ.head()"
      ],
      "execution_count": null,
      "outputs": [
        {
          "output_type": "execute_result",
          "data": {
            "text/html": [
              "<div>\n",
              "<style scoped>\n",
              "    .dataframe tbody tr th:only-of-type {\n",
              "        vertical-align: middle;\n",
              "    }\n",
              "\n",
              "    .dataframe tbody tr th {\n",
              "        vertical-align: top;\n",
              "    }\n",
              "\n",
              "    .dataframe thead th {\n",
              "        text-align: right;\n",
              "    }\n",
              "</style>\n",
              "<table border=\"1\" class=\"dataframe\">\n",
              "  <thead>\n",
              "    <tr style=\"text-align: right;\">\n",
              "      <th></th>\n",
              "      <th>Country</th>\n",
              "      <th>Alcoholic Beverages</th>\n",
              "      <th>Animal fats</th>\n",
              "      <th>Animal Products</th>\n",
              "      <th>Aquatic Products, Other</th>\n",
              "      <th>Cereals - Excluding Beer</th>\n",
              "      <th>Eggs</th>\n",
              "      <th>Fish, Seafood</th>\n",
              "      <th>Fruits - Excluding Wine</th>\n",
              "      <th>Meat</th>\n",
              "      <th>...</th>\n",
              "      <th>Vegetables</th>\n",
              "      <th>Vegetal Products</th>\n",
              "      <th>Obesity</th>\n",
              "      <th>Undernourished</th>\n",
              "      <th>Confirmed</th>\n",
              "      <th>Deaths</th>\n",
              "      <th>Recovered</th>\n",
              "      <th>Active</th>\n",
              "      <th>Population</th>\n",
              "      <th>Unit (all except Population)</th>\n",
              "    </tr>\n",
              "  </thead>\n",
              "  <tbody>\n",
              "    <tr>\n",
              "      <th>0</th>\n",
              "      <td>Afghanistan</td>\n",
              "      <td>0.0014</td>\n",
              "      <td>0.1973</td>\n",
              "      <td>9.4341</td>\n",
              "      <td>0.0</td>\n",
              "      <td>24.8097</td>\n",
              "      <td>0.2099</td>\n",
              "      <td>0.0350</td>\n",
              "      <td>5.3495</td>\n",
              "      <td>1.2020</td>\n",
              "      <td>...</td>\n",
              "      <td>6.7642</td>\n",
              "      <td>40.5645</td>\n",
              "      <td>4.5</td>\n",
              "      <td>29.8</td>\n",
              "      <td>0.142134</td>\n",
              "      <td>0.006186</td>\n",
              "      <td>0.123374</td>\n",
              "      <td>0.012574</td>\n",
              "      <td>38928000.0</td>\n",
              "      <td>%</td>\n",
              "    </tr>\n",
              "    <tr>\n",
              "      <th>1</th>\n",
              "      <td>Albania</td>\n",
              "      <td>1.6719</td>\n",
              "      <td>0.1357</td>\n",
              "      <td>18.7684</td>\n",
              "      <td>0.0</td>\n",
              "      <td>5.7817</td>\n",
              "      <td>0.5815</td>\n",
              "      <td>0.2126</td>\n",
              "      <td>6.7861</td>\n",
              "      <td>1.8845</td>\n",
              "      <td>...</td>\n",
              "      <td>11.7753</td>\n",
              "      <td>31.2304</td>\n",
              "      <td>22.3</td>\n",
              "      <td>6.2</td>\n",
              "      <td>2.967301</td>\n",
              "      <td>0.050951</td>\n",
              "      <td>1.792636</td>\n",
              "      <td>1.123714</td>\n",
              "      <td>2838000.0</td>\n",
              "      <td>%</td>\n",
              "    </tr>\n",
              "    <tr>\n",
              "      <th>2</th>\n",
              "      <td>Algeria</td>\n",
              "      <td>0.2711</td>\n",
              "      <td>0.0282</td>\n",
              "      <td>9.6334</td>\n",
              "      <td>0.0</td>\n",
              "      <td>13.6816</td>\n",
              "      <td>0.5277</td>\n",
              "      <td>0.2416</td>\n",
              "      <td>6.3801</td>\n",
              "      <td>1.1305</td>\n",
              "      <td>...</td>\n",
              "      <td>11.6484</td>\n",
              "      <td>40.3651</td>\n",
              "      <td>26.6</td>\n",
              "      <td>3.9</td>\n",
              "      <td>0.244897</td>\n",
              "      <td>0.006558</td>\n",
              "      <td>0.167572</td>\n",
              "      <td>0.070767</td>\n",
              "      <td>44357000.0</td>\n",
              "      <td>%</td>\n",
              "    </tr>\n",
              "    <tr>\n",
              "      <th>3</th>\n",
              "      <td>Angola</td>\n",
              "      <td>5.8087</td>\n",
              "      <td>0.0560</td>\n",
              "      <td>4.9278</td>\n",
              "      <td>0.0</td>\n",
              "      <td>9.1085</td>\n",
              "      <td>0.0587</td>\n",
              "      <td>1.7707</td>\n",
              "      <td>6.0005</td>\n",
              "      <td>2.0571</td>\n",
              "      <td>...</td>\n",
              "      <td>2.3041</td>\n",
              "      <td>45.0722</td>\n",
              "      <td>6.8</td>\n",
              "      <td>25</td>\n",
              "      <td>0.061687</td>\n",
              "      <td>0.001461</td>\n",
              "      <td>0.056808</td>\n",
              "      <td>0.003419</td>\n",
              "      <td>32522000.0</td>\n",
              "      <td>%</td>\n",
              "    </tr>\n",
              "    <tr>\n",
              "      <th>4</th>\n",
              "      <td>Antigua and Barbuda</td>\n",
              "      <td>3.5764</td>\n",
              "      <td>0.0087</td>\n",
              "      <td>16.6613</td>\n",
              "      <td>0.0</td>\n",
              "      <td>5.9960</td>\n",
              "      <td>0.2274</td>\n",
              "      <td>4.1489</td>\n",
              "      <td>10.7451</td>\n",
              "      <td>5.6888</td>\n",
              "      <td>...</td>\n",
              "      <td>5.4495</td>\n",
              "      <td>33.3233</td>\n",
              "      <td>19.1</td>\n",
              "      <td>NaN</td>\n",
              "      <td>0.293878</td>\n",
              "      <td>0.007143</td>\n",
              "      <td>0.190816</td>\n",
              "      <td>0.095918</td>\n",
              "      <td>98000.0</td>\n",
              "      <td>%</td>\n",
              "    </tr>\n",
              "  </tbody>\n",
              "</table>\n",
              "<p>5 rows × 32 columns</p>\n",
              "</div>"
            ],
            "text/plain": [
              "               Country  Alcoholic Beverages  Animal fats  Animal Products  \\\n",
              "0          Afghanistan               0.0014       0.1973           9.4341   \n",
              "1              Albania               1.6719       0.1357          18.7684   \n",
              "2              Algeria               0.2711       0.0282           9.6334   \n",
              "3               Angola               5.8087       0.0560           4.9278   \n",
              "4  Antigua and Barbuda               3.5764       0.0087          16.6613   \n",
              "\n",
              "   Aquatic Products, Other  Cereals - Excluding Beer    Eggs  Fish, Seafood  \\\n",
              "0                      0.0                   24.8097  0.2099         0.0350   \n",
              "1                      0.0                    5.7817  0.5815         0.2126   \n",
              "2                      0.0                   13.6816  0.5277         0.2416   \n",
              "3                      0.0                    9.1085  0.0587         1.7707   \n",
              "4                      0.0                    5.9960  0.2274         4.1489   \n",
              "\n",
              "   Fruits - Excluding Wine    Meat  ...  Vegetables  Vegetal Products  \\\n",
              "0                   5.3495  1.2020  ...      6.7642           40.5645   \n",
              "1                   6.7861  1.8845  ...     11.7753           31.2304   \n",
              "2                   6.3801  1.1305  ...     11.6484           40.3651   \n",
              "3                   6.0005  2.0571  ...      2.3041           45.0722   \n",
              "4                  10.7451  5.6888  ...      5.4495           33.3233   \n",
              "\n",
              "   Obesity  Undernourished  Confirmed    Deaths  Recovered    Active  \\\n",
              "0      4.5            29.8   0.142134  0.006186   0.123374  0.012574   \n",
              "1     22.3             6.2   2.967301  0.050951   1.792636  1.123714   \n",
              "2     26.6             3.9   0.244897  0.006558   0.167572  0.070767   \n",
              "3      6.8              25   0.061687  0.001461   0.056808  0.003419   \n",
              "4     19.1             NaN   0.293878  0.007143   0.190816  0.095918   \n",
              "\n",
              "   Population  Unit (all except Population)  \n",
              "0  38928000.0                             %  \n",
              "1   2838000.0                             %  \n",
              "2  44357000.0                             %  \n",
              "3  32522000.0                             %  \n",
              "4     98000.0                             %  \n",
              "\n",
              "[5 rows x 32 columns]"
            ]
          },
          "metadata": {
            "tags": []
          },
          "execution_count": 489
        }
      ]
    },
    {
      "cell_type": "code",
      "metadata": {
        "id": "_CTcU4bV-6Jq",
        "outputId": "6507b8f4-207f-4cd5-e7a4-91e53237d27a"
      },
      "source": [
        "dfFoodQ.shape"
      ],
      "execution_count": null,
      "outputs": [
        {
          "output_type": "execute_result",
          "data": {
            "text/plain": [
              "(170, 32)"
            ]
          },
          "metadata": {
            "tags": []
          },
          "execution_count": 490
        }
      ]
    },
    {
      "cell_type": "code",
      "metadata": {
        "colab": {
          "base_uri": "https://localhost:8080/"
        },
        "id": "i5RYyXKIxKRi",
        "outputId": "ab173b2a-94d3-40c3-b97f-3fbed998368d"
      },
      "source": [
        "dfFoodQ.info()"
      ],
      "execution_count": null,
      "outputs": [
        {
          "output_type": "stream",
          "text": [
            "<class 'pandas.core.frame.DataFrame'>\n",
            "RangeIndex: 170 entries, 0 to 169\n",
            "Data columns (total 32 columns):\n",
            " #   Column                        Non-Null Count  Dtype  \n",
            "---  ------                        --------------  -----  \n",
            " 0   Country                       170 non-null    object \n",
            " 1   Alcoholic Beverages           170 non-null    float64\n",
            " 2   Animal fats                   170 non-null    float64\n",
            " 3   Animal Products               170 non-null    float64\n",
            " 4   Aquatic Products, Other       170 non-null    float64\n",
            " 5   Cereals - Excluding Beer      170 non-null    float64\n",
            " 6   Eggs                          170 non-null    float64\n",
            " 7   Fish, Seafood                 170 non-null    float64\n",
            " 8   Fruits - Excluding Wine       170 non-null    float64\n",
            " 9   Meat                          170 non-null    float64\n",
            " 10  Milk - Excluding Butter       170 non-null    float64\n",
            " 11  Miscellaneous                 170 non-null    float64\n",
            " 12  Offals                        170 non-null    float64\n",
            " 13  Oilcrops                      170 non-null    float64\n",
            " 14  Pulses                        170 non-null    float64\n",
            " 15  Spices                        170 non-null    float64\n",
            " 16  Starchy Roots                 170 non-null    float64\n",
            " 17  Stimulants                    170 non-null    float64\n",
            " 18  Sugar & Sweeteners            170 non-null    float64\n",
            " 19  Sugar Crops                   170 non-null    float64\n",
            " 20  Treenuts                      170 non-null    float64\n",
            " 21  Vegetable Oils                170 non-null    float64\n",
            " 22  Vegetables                    170 non-null    float64\n",
            " 23  Vegetal Products              170 non-null    float64\n",
            " 24  Obesity                       167 non-null    float64\n",
            " 25  Undernourished                163 non-null    object \n",
            " 26  Confirmed                     164 non-null    float64\n",
            " 27  Deaths                        164 non-null    float64\n",
            " 28  Recovered                     164 non-null    float64\n",
            " 29  Active                        162 non-null    float64\n",
            " 30  Population                    170 non-null    float64\n",
            " 31  Unit (all except Population)  170 non-null    object \n",
            "dtypes: float64(29), object(3)\n",
            "memory usage: 42.6+ KB\n"
          ],
          "name": "stdout"
        }
      ]
    },
    {
      "cell_type": "markdown",
      "metadata": {
        "id": "OTe2zIuy-6Jr"
      },
      "source": [
        "## Food Supply Kcal Data"
      ]
    },
    {
      "cell_type": "markdown",
      "metadata": {
        "id": "wW007RWB-6Jr"
      },
      "source": [
        "This dataset includes percentage of energy intake (kcal) from different types of food in countries around the world. The last couple of columns also includes counts of obesity, undernourished, and COVID-19 cases as percentages of the total population for comparison purposes."
      ]
    },
    {
      "cell_type": "code",
      "metadata": {
        "colab": {
          "base_uri": "https://localhost:8080/",
          "height": 292
        },
        "id": "D-QANFYTxdDb",
        "outputId": "66f6c969-bf3b-465c-b6b9-b118f0a31cb6"
      },
      "source": [
        "#data structure for Food_Supply_kcal_Data.csv\n",
        "dfFoodK=pd.read_csv('Food_Supply_kcal_Data.csv')\n",
        "dfFoodK.head()"
      ],
      "execution_count": null,
      "outputs": [
        {
          "output_type": "execute_result",
          "data": {
            "text/html": [
              "<div>\n",
              "<style scoped>\n",
              "    .dataframe tbody tr th:only-of-type {\n",
              "        vertical-align: middle;\n",
              "    }\n",
              "\n",
              "    .dataframe tbody tr th {\n",
              "        vertical-align: top;\n",
              "    }\n",
              "\n",
              "    .dataframe thead th {\n",
              "        text-align: right;\n",
              "    }\n",
              "</style>\n",
              "<table border=\"1\" class=\"dataframe\">\n",
              "  <thead>\n",
              "    <tr style=\"text-align: right;\">\n",
              "      <th></th>\n",
              "      <th>Country</th>\n",
              "      <th>Alcoholic Beverages</th>\n",
              "      <th>Animal Products</th>\n",
              "      <th>Animal fats</th>\n",
              "      <th>Aquatic Products, Other</th>\n",
              "      <th>Cereals - Excluding Beer</th>\n",
              "      <th>Eggs</th>\n",
              "      <th>Fish, Seafood</th>\n",
              "      <th>Fruits - Excluding Wine</th>\n",
              "      <th>Meat</th>\n",
              "      <th>...</th>\n",
              "      <th>Vegetable Oils</th>\n",
              "      <th>Vegetables</th>\n",
              "      <th>Obesity</th>\n",
              "      <th>Undernourished</th>\n",
              "      <th>Confirmed</th>\n",
              "      <th>Deaths</th>\n",
              "      <th>Recovered</th>\n",
              "      <th>Active</th>\n",
              "      <th>Population</th>\n",
              "      <th>Unit (all except Population)</th>\n",
              "    </tr>\n",
              "  </thead>\n",
              "  <tbody>\n",
              "    <tr>\n",
              "      <th>0</th>\n",
              "      <td>Afghanistan</td>\n",
              "      <td>0.0000</td>\n",
              "      <td>4.7774</td>\n",
              "      <td>0.8504</td>\n",
              "      <td>0.0</td>\n",
              "      <td>37.1186</td>\n",
              "      <td>0.1501</td>\n",
              "      <td>0.0000</td>\n",
              "      <td>1.4757</td>\n",
              "      <td>1.2006</td>\n",
              "      <td>...</td>\n",
              "      <td>2.3012</td>\n",
              "      <td>0.7504</td>\n",
              "      <td>4.5</td>\n",
              "      <td>29.8</td>\n",
              "      <td>0.142134</td>\n",
              "      <td>0.006186</td>\n",
              "      <td>0.123374</td>\n",
              "      <td>0.012574</td>\n",
              "      <td>38928000.0</td>\n",
              "      <td>%</td>\n",
              "    </tr>\n",
              "    <tr>\n",
              "      <th>1</th>\n",
              "      <td>Albania</td>\n",
              "      <td>0.9120</td>\n",
              "      <td>16.0930</td>\n",
              "      <td>1.0591</td>\n",
              "      <td>0.0</td>\n",
              "      <td>16.2107</td>\n",
              "      <td>0.8091</td>\n",
              "      <td>0.1471</td>\n",
              "      <td>3.8982</td>\n",
              "      <td>3.8688</td>\n",
              "      <td>...</td>\n",
              "      <td>2.8244</td>\n",
              "      <td>2.7508</td>\n",
              "      <td>22.3</td>\n",
              "      <td>6.2</td>\n",
              "      <td>2.967301</td>\n",
              "      <td>0.050951</td>\n",
              "      <td>1.792636</td>\n",
              "      <td>1.123714</td>\n",
              "      <td>2838000.0</td>\n",
              "      <td>%</td>\n",
              "    </tr>\n",
              "    <tr>\n",
              "      <th>2</th>\n",
              "      <td>Algeria</td>\n",
              "      <td>0.0896</td>\n",
              "      <td>6.0326</td>\n",
              "      <td>0.1941</td>\n",
              "      <td>0.0</td>\n",
              "      <td>25.0112</td>\n",
              "      <td>0.4181</td>\n",
              "      <td>0.1195</td>\n",
              "      <td>3.1805</td>\n",
              "      <td>1.2543</td>\n",
              "      <td>...</td>\n",
              "      <td>5.7638</td>\n",
              "      <td>2.0457</td>\n",
              "      <td>26.6</td>\n",
              "      <td>3.9</td>\n",
              "      <td>0.244897</td>\n",
              "      <td>0.006558</td>\n",
              "      <td>0.167572</td>\n",
              "      <td>0.070767</td>\n",
              "      <td>44357000.0</td>\n",
              "      <td>%</td>\n",
              "    </tr>\n",
              "    <tr>\n",
              "      <th>3</th>\n",
              "      <td>Angola</td>\n",
              "      <td>1.9388</td>\n",
              "      <td>4.6927</td>\n",
              "      <td>0.2644</td>\n",
              "      <td>0.0</td>\n",
              "      <td>18.3521</td>\n",
              "      <td>0.0441</td>\n",
              "      <td>0.8372</td>\n",
              "      <td>2.3133</td>\n",
              "      <td>2.9302</td>\n",
              "      <td>...</td>\n",
              "      <td>4.2741</td>\n",
              "      <td>0.3525</td>\n",
              "      <td>6.8</td>\n",
              "      <td>25</td>\n",
              "      <td>0.061687</td>\n",
              "      <td>0.001461</td>\n",
              "      <td>0.056808</td>\n",
              "      <td>0.003419</td>\n",
              "      <td>32522000.0</td>\n",
              "      <td>%</td>\n",
              "    </tr>\n",
              "    <tr>\n",
              "      <th>4</th>\n",
              "      <td>Antigua and Barbuda</td>\n",
              "      <td>2.3041</td>\n",
              "      <td>15.3672</td>\n",
              "      <td>1.5429</td>\n",
              "      <td>0.0</td>\n",
              "      <td>13.7215</td>\n",
              "      <td>0.2057</td>\n",
              "      <td>1.7280</td>\n",
              "      <td>3.6824</td>\n",
              "      <td>7.0356</td>\n",
              "      <td>...</td>\n",
              "      <td>4.6904</td>\n",
              "      <td>1.2960</td>\n",
              "      <td>19.1</td>\n",
              "      <td>NaN</td>\n",
              "      <td>0.293878</td>\n",
              "      <td>0.007143</td>\n",
              "      <td>0.190816</td>\n",
              "      <td>0.095918</td>\n",
              "      <td>98000.0</td>\n",
              "      <td>%</td>\n",
              "    </tr>\n",
              "  </tbody>\n",
              "</table>\n",
              "<p>5 rows × 32 columns</p>\n",
              "</div>"
            ],
            "text/plain": [
              "               Country  Alcoholic Beverages  Animal Products  Animal fats  \\\n",
              "0          Afghanistan               0.0000           4.7774       0.8504   \n",
              "1              Albania               0.9120          16.0930       1.0591   \n",
              "2              Algeria               0.0896           6.0326       0.1941   \n",
              "3               Angola               1.9388           4.6927       0.2644   \n",
              "4  Antigua and Barbuda               2.3041          15.3672       1.5429   \n",
              "\n",
              "   Aquatic Products, Other  Cereals - Excluding Beer    Eggs  Fish, Seafood  \\\n",
              "0                      0.0                   37.1186  0.1501         0.0000   \n",
              "1                      0.0                   16.2107  0.8091         0.1471   \n",
              "2                      0.0                   25.0112  0.4181         0.1195   \n",
              "3                      0.0                   18.3521  0.0441         0.8372   \n",
              "4                      0.0                   13.7215  0.2057         1.7280   \n",
              "\n",
              "   Fruits - Excluding Wine    Meat  ...  Vegetable Oils  Vegetables  Obesity  \\\n",
              "0                   1.4757  1.2006  ...          2.3012      0.7504      4.5   \n",
              "1                   3.8982  3.8688  ...          2.8244      2.7508     22.3   \n",
              "2                   3.1805  1.2543  ...          5.7638      2.0457     26.6   \n",
              "3                   2.3133  2.9302  ...          4.2741      0.3525      6.8   \n",
              "4                   3.6824  7.0356  ...          4.6904      1.2960     19.1   \n",
              "\n",
              "   Undernourished  Confirmed    Deaths  Recovered    Active  Population  \\\n",
              "0            29.8   0.142134  0.006186   0.123374  0.012574  38928000.0   \n",
              "1             6.2   2.967301  0.050951   1.792636  1.123714   2838000.0   \n",
              "2             3.9   0.244897  0.006558   0.167572  0.070767  44357000.0   \n",
              "3              25   0.061687  0.001461   0.056808  0.003419  32522000.0   \n",
              "4             NaN   0.293878  0.007143   0.190816  0.095918     98000.0   \n",
              "\n",
              "   Unit (all except Population)  \n",
              "0                             %  \n",
              "1                             %  \n",
              "2                             %  \n",
              "3                             %  \n",
              "4                             %  \n",
              "\n",
              "[5 rows x 32 columns]"
            ]
          },
          "metadata": {
            "tags": []
          },
          "execution_count": 492
        }
      ]
    },
    {
      "cell_type": "code",
      "metadata": {
        "id": "M5ZqbG1B-6Js",
        "outputId": "053c7eb4-3a85-4aa1-8179-cce04eba5df8"
      },
      "source": [
        "dfFoodK.shape"
      ],
      "execution_count": null,
      "outputs": [
        {
          "output_type": "execute_result",
          "data": {
            "text/plain": [
              "(170, 32)"
            ]
          },
          "metadata": {
            "tags": []
          },
          "execution_count": 493
        }
      ]
    },
    {
      "cell_type": "code",
      "metadata": {
        "colab": {
          "base_uri": "https://localhost:8080/"
        },
        "id": "NO84PW7XxxTY",
        "outputId": "5d5a8124-f298-49cd-95d5-1c0feeffba6c"
      },
      "source": [
        "dfFoodK.info()"
      ],
      "execution_count": null,
      "outputs": [
        {
          "output_type": "stream",
          "text": [
            "<class 'pandas.core.frame.DataFrame'>\n",
            "RangeIndex: 170 entries, 0 to 169\n",
            "Data columns (total 32 columns):\n",
            " #   Column                        Non-Null Count  Dtype  \n",
            "---  ------                        --------------  -----  \n",
            " 0   Country                       170 non-null    object \n",
            " 1   Alcoholic Beverages           170 non-null    float64\n",
            " 2   Animal Products               170 non-null    float64\n",
            " 3   Animal fats                   170 non-null    float64\n",
            " 4   Aquatic Products, Other       170 non-null    float64\n",
            " 5   Cereals - Excluding Beer      170 non-null    float64\n",
            " 6   Eggs                          170 non-null    float64\n",
            " 7   Fish, Seafood                 170 non-null    float64\n",
            " 8   Fruits - Excluding Wine       170 non-null    float64\n",
            " 9   Meat                          170 non-null    float64\n",
            " 10  Milk - Excluding Butter       170 non-null    float64\n",
            " 11  Miscellaneous                 170 non-null    float64\n",
            " 12  Offals                        170 non-null    float64\n",
            " 13  Oilcrops                      170 non-null    float64\n",
            " 14  Pulses                        170 non-null    float64\n",
            " 15  Spices                        170 non-null    float64\n",
            " 16  Starchy Roots                 170 non-null    float64\n",
            " 17  Stimulants                    170 non-null    float64\n",
            " 18  Sugar Crops                   170 non-null    float64\n",
            " 19  Sugar & Sweeteners            170 non-null    float64\n",
            " 20  Treenuts                      170 non-null    float64\n",
            " 21  Vegetal Products              170 non-null    float64\n",
            " 22  Vegetable Oils                170 non-null    float64\n",
            " 23  Vegetables                    170 non-null    float64\n",
            " 24  Obesity                       167 non-null    float64\n",
            " 25  Undernourished                163 non-null    object \n",
            " 26  Confirmed                     164 non-null    float64\n",
            " 27  Deaths                        164 non-null    float64\n",
            " 28  Recovered                     164 non-null    float64\n",
            " 29  Active                        162 non-null    float64\n",
            " 30  Population                    170 non-null    float64\n",
            " 31  Unit (all except Population)  170 non-null    object \n",
            "dtypes: float64(29), object(3)\n",
            "memory usage: 42.6+ KB\n"
          ],
          "name": "stdout"
        }
      ]
    },
    {
      "cell_type": "markdown",
      "metadata": {
        "id": "Kl5Hzndn-6Js"
      },
      "source": [
        "## Protein Supply Quantity Data"
      ]
    },
    {
      "cell_type": "markdown",
      "metadata": {
        "id": "uE-6O-yE-6Jt"
      },
      "source": [
        "This dataset includes percentage of protein intake from different types of food in countries around the world. The last couple of columns also includes counts of obesity, undernourished, and COVID-19 cases as percentages of the total population for comparison purposes."
      ]
    },
    {
      "cell_type": "code",
      "metadata": {
        "colab": {
          "base_uri": "https://localhost:8080/",
          "height": 292
        },
        "id": "CowGUooxx_D3",
        "outputId": "3b261939-c343-48be-c378-d53070756e55"
      },
      "source": [
        "dfProteinQ=pd.read_csv('Protein_Supply_Quantity_Data.csv')\n",
        "dfProteinQ.head()"
      ],
      "execution_count": null,
      "outputs": [
        {
          "output_type": "execute_result",
          "data": {
            "text/html": [
              "<div>\n",
              "<style scoped>\n",
              "    .dataframe tbody tr th:only-of-type {\n",
              "        vertical-align: middle;\n",
              "    }\n",
              "\n",
              "    .dataframe tbody tr th {\n",
              "        vertical-align: top;\n",
              "    }\n",
              "\n",
              "    .dataframe thead th {\n",
              "        text-align: right;\n",
              "    }\n",
              "</style>\n",
              "<table border=\"1\" class=\"dataframe\">\n",
              "  <thead>\n",
              "    <tr style=\"text-align: right;\">\n",
              "      <th></th>\n",
              "      <th>Country</th>\n",
              "      <th>Alcoholic Beverages</th>\n",
              "      <th>Animal Products</th>\n",
              "      <th>Animal fats</th>\n",
              "      <th>Aquatic Products, Other</th>\n",
              "      <th>Cereals - Excluding Beer</th>\n",
              "      <th>Eggs</th>\n",
              "      <th>Fish, Seafood</th>\n",
              "      <th>Fruits - Excluding Wine</th>\n",
              "      <th>Meat</th>\n",
              "      <th>...</th>\n",
              "      <th>Vegetables</th>\n",
              "      <th>Miscellaneous</th>\n",
              "      <th>Obesity</th>\n",
              "      <th>Undernourished</th>\n",
              "      <th>Confirmed</th>\n",
              "      <th>Deaths</th>\n",
              "      <th>Recovered</th>\n",
              "      <th>Active</th>\n",
              "      <th>Population</th>\n",
              "      <th>Unit (all except Population)</th>\n",
              "    </tr>\n",
              "  </thead>\n",
              "  <tbody>\n",
              "    <tr>\n",
              "      <th>0</th>\n",
              "      <td>Afghanistan</td>\n",
              "      <td>0.0000</td>\n",
              "      <td>9.7523</td>\n",
              "      <td>0.0277</td>\n",
              "      <td>0.0</td>\n",
              "      <td>35.9771</td>\n",
              "      <td>0.4067</td>\n",
              "      <td>0.0647</td>\n",
              "      <td>0.5824</td>\n",
              "      <td>3.1337</td>\n",
              "      <td>...</td>\n",
              "      <td>1.1370</td>\n",
              "      <td>0.0462</td>\n",
              "      <td>4.5</td>\n",
              "      <td>29.8</td>\n",
              "      <td>0.142134</td>\n",
              "      <td>0.006186</td>\n",
              "      <td>0.123374</td>\n",
              "      <td>0.012574</td>\n",
              "      <td>38928000.0</td>\n",
              "      <td>%</td>\n",
              "    </tr>\n",
              "    <tr>\n",
              "      <th>1</th>\n",
              "      <td>Albania</td>\n",
              "      <td>0.1840</td>\n",
              "      <td>27.7469</td>\n",
              "      <td>0.0711</td>\n",
              "      <td>0.0</td>\n",
              "      <td>14.2331</td>\n",
              "      <td>1.8069</td>\n",
              "      <td>0.6274</td>\n",
              "      <td>1.2757</td>\n",
              "      <td>7.6582</td>\n",
              "      <td>...</td>\n",
              "      <td>3.2456</td>\n",
              "      <td>0.0544</td>\n",
              "      <td>22.3</td>\n",
              "      <td>6.2</td>\n",
              "      <td>2.967301</td>\n",
              "      <td>0.050951</td>\n",
              "      <td>1.792636</td>\n",
              "      <td>1.123714</td>\n",
              "      <td>2838000.0</td>\n",
              "      <td>%</td>\n",
              "    </tr>\n",
              "    <tr>\n",
              "      <th>2</th>\n",
              "      <td>Algeria</td>\n",
              "      <td>0.0323</td>\n",
              "      <td>13.8360</td>\n",
              "      <td>0.0054</td>\n",
              "      <td>0.0</td>\n",
              "      <td>26.5633</td>\n",
              "      <td>1.2916</td>\n",
              "      <td>0.6350</td>\n",
              "      <td>1.1624</td>\n",
              "      <td>3.5088</td>\n",
              "      <td>...</td>\n",
              "      <td>3.1267</td>\n",
              "      <td>0.1399</td>\n",
              "      <td>26.6</td>\n",
              "      <td>3.9</td>\n",
              "      <td>0.244897</td>\n",
              "      <td>0.006558</td>\n",
              "      <td>0.167572</td>\n",
              "      <td>0.070767</td>\n",
              "      <td>44357000.0</td>\n",
              "      <td>%</td>\n",
              "    </tr>\n",
              "    <tr>\n",
              "      <th>3</th>\n",
              "      <td>Angola</td>\n",
              "      <td>0.6285</td>\n",
              "      <td>15.2311</td>\n",
              "      <td>0.0277</td>\n",
              "      <td>0.0</td>\n",
              "      <td>20.3882</td>\n",
              "      <td>0.1756</td>\n",
              "      <td>5.4436</td>\n",
              "      <td>1.2754</td>\n",
              "      <td>7.6248</td>\n",
              "      <td>...</td>\n",
              "      <td>0.8133</td>\n",
              "      <td>0.0924</td>\n",
              "      <td>6.8</td>\n",
              "      <td>25</td>\n",
              "      <td>0.061687</td>\n",
              "      <td>0.001461</td>\n",
              "      <td>0.056808</td>\n",
              "      <td>0.003419</td>\n",
              "      <td>32522000.0</td>\n",
              "      <td>%</td>\n",
              "    </tr>\n",
              "    <tr>\n",
              "      <th>4</th>\n",
              "      <td>Antigua and Barbuda</td>\n",
              "      <td>0.1535</td>\n",
              "      <td>33.1901</td>\n",
              "      <td>0.1289</td>\n",
              "      <td>0.0</td>\n",
              "      <td>10.5108</td>\n",
              "      <td>0.4850</td>\n",
              "      <td>8.2146</td>\n",
              "      <td>1.2586</td>\n",
              "      <td>16.0670</td>\n",
              "      <td>...</td>\n",
              "      <td>1.6024</td>\n",
              "      <td>0.2947</td>\n",
              "      <td>19.1</td>\n",
              "      <td>NaN</td>\n",
              "      <td>0.293878</td>\n",
              "      <td>0.007143</td>\n",
              "      <td>0.190816</td>\n",
              "      <td>0.095918</td>\n",
              "      <td>98000.0</td>\n",
              "      <td>%</td>\n",
              "    </tr>\n",
              "  </tbody>\n",
              "</table>\n",
              "<p>5 rows × 32 columns</p>\n",
              "</div>"
            ],
            "text/plain": [
              "               Country  Alcoholic Beverages  Animal Products  Animal fats  \\\n",
              "0          Afghanistan               0.0000           9.7523       0.0277   \n",
              "1              Albania               0.1840          27.7469       0.0711   \n",
              "2              Algeria               0.0323          13.8360       0.0054   \n",
              "3               Angola               0.6285          15.2311       0.0277   \n",
              "4  Antigua and Barbuda               0.1535          33.1901       0.1289   \n",
              "\n",
              "   Aquatic Products, Other  Cereals - Excluding Beer    Eggs  Fish, Seafood  \\\n",
              "0                      0.0                   35.9771  0.4067         0.0647   \n",
              "1                      0.0                   14.2331  1.8069         0.6274   \n",
              "2                      0.0                   26.5633  1.2916         0.6350   \n",
              "3                      0.0                   20.3882  0.1756         5.4436   \n",
              "4                      0.0                   10.5108  0.4850         8.2146   \n",
              "\n",
              "   Fruits - Excluding Wine     Meat  ...  Vegetables  Miscellaneous  Obesity  \\\n",
              "0                   0.5824   3.1337  ...      1.1370         0.0462      4.5   \n",
              "1                   1.2757   7.6582  ...      3.2456         0.0544     22.3   \n",
              "2                   1.1624   3.5088  ...      3.1267         0.1399     26.6   \n",
              "3                   1.2754   7.6248  ...      0.8133         0.0924      6.8   \n",
              "4                   1.2586  16.0670  ...      1.6024         0.2947     19.1   \n",
              "\n",
              "   Undernourished  Confirmed    Deaths  Recovered    Active  Population  \\\n",
              "0            29.8   0.142134  0.006186   0.123374  0.012574  38928000.0   \n",
              "1             6.2   2.967301  0.050951   1.792636  1.123714   2838000.0   \n",
              "2             3.9   0.244897  0.006558   0.167572  0.070767  44357000.0   \n",
              "3              25   0.061687  0.001461   0.056808  0.003419  32522000.0   \n",
              "4             NaN   0.293878  0.007143   0.190816  0.095918     98000.0   \n",
              "\n",
              "   Unit (all except Population)  \n",
              "0                             %  \n",
              "1                             %  \n",
              "2                             %  \n",
              "3                             %  \n",
              "4                             %  \n",
              "\n",
              "[5 rows x 32 columns]"
            ]
          },
          "metadata": {
            "tags": []
          },
          "execution_count": 495
        }
      ]
    },
    {
      "cell_type": "code",
      "metadata": {
        "id": "4mLANNjt-6Ju",
        "outputId": "fa8dbb78-dff9-483f-904f-cec819cbd952"
      },
      "source": [
        "dfProteinQ.shape"
      ],
      "execution_count": null,
      "outputs": [
        {
          "output_type": "execute_result",
          "data": {
            "text/plain": [
              "(170, 32)"
            ]
          },
          "metadata": {
            "tags": []
          },
          "execution_count": 496
        }
      ]
    },
    {
      "cell_type": "code",
      "metadata": {
        "colab": {
          "base_uri": "https://localhost:8080/"
        },
        "id": "i5mbc5quyMne",
        "outputId": "06b2190e-3893-4a16-d3d5-4e79e1298a64"
      },
      "source": [
        "dfProteinQ.info()"
      ],
      "execution_count": null,
      "outputs": [
        {
          "output_type": "stream",
          "text": [
            "<class 'pandas.core.frame.DataFrame'>\n",
            "RangeIndex: 170 entries, 0 to 169\n",
            "Data columns (total 32 columns):\n",
            " #   Column                        Non-Null Count  Dtype  \n",
            "---  ------                        --------------  -----  \n",
            " 0   Country                       170 non-null    object \n",
            " 1   Alcoholic Beverages           170 non-null    float64\n",
            " 2   Animal Products               170 non-null    float64\n",
            " 3   Animal fats                   170 non-null    float64\n",
            " 4   Aquatic Products, Other       170 non-null    float64\n",
            " 5   Cereals - Excluding Beer      170 non-null    float64\n",
            " 6   Eggs                          170 non-null    float64\n",
            " 7   Fish, Seafood                 170 non-null    float64\n",
            " 8   Fruits - Excluding Wine       170 non-null    float64\n",
            " 9   Meat                          170 non-null    float64\n",
            " 10  Milk - Excluding Butter       170 non-null    float64\n",
            " 11  Offals                        170 non-null    float64\n",
            " 12  Oilcrops                      170 non-null    float64\n",
            " 13  Pulses                        170 non-null    float64\n",
            " 14  Spices                        170 non-null    float64\n",
            " 15  Starchy Roots                 170 non-null    float64\n",
            " 16  Stimulants                    170 non-null    float64\n",
            " 17  Sugar Crops                   170 non-null    float64\n",
            " 18  Sugar & Sweeteners            170 non-null    float64\n",
            " 19  Treenuts                      170 non-null    float64\n",
            " 20  Vegetal Products              170 non-null    float64\n",
            " 21  Vegetable Oils                170 non-null    float64\n",
            " 22  Vegetables                    170 non-null    float64\n",
            " 23  Miscellaneous                 170 non-null    float64\n",
            " 24  Obesity                       167 non-null    float64\n",
            " 25  Undernourished                163 non-null    object \n",
            " 26  Confirmed                     164 non-null    float64\n",
            " 27  Deaths                        164 non-null    float64\n",
            " 28  Recovered                     164 non-null    float64\n",
            " 29  Active                        162 non-null    float64\n",
            " 30  Population                    170 non-null    float64\n",
            " 31  Unit (all except Population)  170 non-null    object \n",
            "dtypes: float64(29), object(3)\n",
            "memory usage: 42.6+ KB\n"
          ],
          "name": "stdout"
        }
      ]
    },
    {
      "cell_type": "markdown",
      "metadata": {
        "id": "cJVFHFf_-6Jv"
      },
      "source": [
        "## Dealing with missing data"
      ]
    },
    {
      "cell_type": "markdown",
      "metadata": {
        "id": "MJqxCo9UyYo0"
      },
      "source": [
        "Above all, I observed that there are no missing values from column 0 to 23 in the dataset, and there are some missing data from variables obesity to active. By using pandas to check the missing values of the above datasets(as shown below), I noticed that the missing data in the above four data sets are the same. Since we do not consider the data of these countries,I think that there is no noteworthy data-missing issues."
      ]
    },
    {
      "cell_type": "code",
      "metadata": {
        "id": "J7wqNzHv-6Jv",
        "outputId": "c2eb6b84-67f7-4bf5-c9ed-e410df704de1"
      },
      "source": [
        "dfFat[dfFat.isnull().any(axis=1)]['Country']"
      ],
      "execution_count": null,
      "outputs": [
        {
          "output_type": "execute_result",
          "data": {
            "text/plain": [
              "4        Antigua and Barbuda\n",
              "10                   Bahamas\n",
              "26                    Canada\n",
              "29                     Chile\n",
              "52          French Polynesia\n",
              "59                   Grenada\n",
              "80                  Kiribati\n",
              "81              Korea, North\n",
              "105                  Myanmar\n",
              "109            New Caledonia\n",
              "124      Republic of Moldova\n",
              "128    Saint Kitts and Nevis\n",
              "129              Saint Lucia\n",
              "147                  Taiwan*\n",
              "148               Tajikistan\n",
              "155             Turkmenistan\n",
              "Name: Country, dtype: object"
            ]
          },
          "metadata": {
            "tags": []
          },
          "execution_count": 498
        }
      ]
    },
    {
      "cell_type": "code",
      "metadata": {
        "id": "u4viIh0L-6Jv",
        "outputId": "d5bf2b43-c12d-48ce-f8bc-974c84ea4b25"
      },
      "source": [
        "dfFoodQ[dfFoodQ.isnull().any(axis=1)]['Country']"
      ],
      "execution_count": null,
      "outputs": [
        {
          "output_type": "execute_result",
          "data": {
            "text/plain": [
              "4        Antigua and Barbuda\n",
              "10                   Bahamas\n",
              "26                    Canada\n",
              "29                     Chile\n",
              "52          French Polynesia\n",
              "59                   Grenada\n",
              "80                  Kiribati\n",
              "81              Korea, North\n",
              "105                  Myanmar\n",
              "109            New Caledonia\n",
              "124      Republic of Moldova\n",
              "128    Saint Kitts and Nevis\n",
              "129              Saint Lucia\n",
              "147                  Taiwan*\n",
              "148               Tajikistan\n",
              "155             Turkmenistan\n",
              "Name: Country, dtype: object"
            ]
          },
          "metadata": {
            "tags": []
          },
          "execution_count": 499
        }
      ]
    },
    {
      "cell_type": "code",
      "metadata": {
        "id": "q053Ta7S-6Jv",
        "outputId": "b184e877-3c60-406a-c4ea-53aa81ca5ae0"
      },
      "source": [
        "dfFoodK[dfFoodK.isnull().any(axis=1)]['Country']"
      ],
      "execution_count": null,
      "outputs": [
        {
          "output_type": "execute_result",
          "data": {
            "text/plain": [
              "4        Antigua and Barbuda\n",
              "10                   Bahamas\n",
              "26                    Canada\n",
              "29                     Chile\n",
              "52          French Polynesia\n",
              "59                   Grenada\n",
              "80                  Kiribati\n",
              "81              Korea, North\n",
              "105                  Myanmar\n",
              "109            New Caledonia\n",
              "124      Republic of Moldova\n",
              "128    Saint Kitts and Nevis\n",
              "129              Saint Lucia\n",
              "147                  Taiwan*\n",
              "148               Tajikistan\n",
              "155             Turkmenistan\n",
              "Name: Country, dtype: object"
            ]
          },
          "metadata": {
            "tags": []
          },
          "execution_count": 500
        }
      ]
    },
    {
      "cell_type": "code",
      "metadata": {
        "id": "FZ-DO2ig-6Jw",
        "outputId": "77914996-644a-435b-9c4b-d831fff20d93"
      },
      "source": [
        "dfProteinQ[dfProteinQ.isnull().any(axis=1)]['Country']"
      ],
      "execution_count": null,
      "outputs": [
        {
          "output_type": "execute_result",
          "data": {
            "text/plain": [
              "4        Antigua and Barbuda\n",
              "10                   Bahamas\n",
              "26                    Canada\n",
              "29                     Chile\n",
              "52          French Polynesia\n",
              "59                   Grenada\n",
              "80                  Kiribati\n",
              "81              Korea, North\n",
              "105                  Myanmar\n",
              "109            New Caledonia\n",
              "124      Republic of Moldova\n",
              "128    Saint Kitts and Nevis\n",
              "129              Saint Lucia\n",
              "147                  Taiwan*\n",
              "148               Tajikistan\n",
              "155             Turkmenistan\n",
              "Name: Country, dtype: object"
            ]
          },
          "metadata": {
            "tags": []
          },
          "execution_count": 501
        }
      ]
    },
    {
      "cell_type": "code",
      "metadata": {
        "id": "z9ZjbtCC-6Jw",
        "outputId": "58e500c1-a025-4c5f-e9e5-02454ab40d9c"
      },
      "source": [
        "print(dfFat[dfFat.isnull().any(axis=1)]['Country'] == dfFoodQ[dfFoodQ.isnull().any(axis=1)]['Country'])\n",
        "print(dfFat[dfFat.isnull().any(axis=1)]['Country'] == dfFoodK[dfFoodK.isnull().any(axis=1)]['Country'])\n",
        "print(dfFat[dfFat.isnull().any(axis=1)]['Country'] == dfProteinQ[dfProteinQ.isnull().any(axis=1)]['Country'])"
      ],
      "execution_count": null,
      "outputs": [
        {
          "output_type": "stream",
          "text": [
            "4      True\n",
            "10     True\n",
            "26     True\n",
            "29     True\n",
            "52     True\n",
            "59     True\n",
            "80     True\n",
            "81     True\n",
            "105    True\n",
            "109    True\n",
            "124    True\n",
            "128    True\n",
            "129    True\n",
            "147    True\n",
            "148    True\n",
            "155    True\n",
            "Name: Country, dtype: bool\n",
            "4      True\n",
            "10     True\n",
            "26     True\n",
            "29     True\n",
            "52     True\n",
            "59     True\n",
            "80     True\n",
            "81     True\n",
            "105    True\n",
            "109    True\n",
            "124    True\n",
            "128    True\n",
            "129    True\n",
            "147    True\n",
            "148    True\n",
            "155    True\n",
            "Name: Country, dtype: bool\n",
            "4      True\n",
            "10     True\n",
            "26     True\n",
            "29     True\n",
            "52     True\n",
            "59     True\n",
            "80     True\n",
            "81     True\n",
            "105    True\n",
            "109    True\n",
            "124    True\n",
            "128    True\n",
            "129    True\n",
            "147    True\n",
            "148    True\n",
            "155    True\n",
            "Name: Country, dtype: bool\n"
          ],
          "name": "stdout"
        }
      ]
    },
    {
      "cell_type": "markdown",
      "metadata": {
        "id": "kzUHaWZU-6Jw"
      },
      "source": [
        "## Supply Food Data Descriptions"
      ]
    },
    {
      "cell_type": "markdown",
      "metadata": {
        "id": "Moy9doOd-6Jw"
      },
      "source": [
        "This dataset is used to show the specific types of food that belongs to each category for the above datasets. "
      ]
    },
    {
      "cell_type": "code",
      "metadata": {
        "colab": {
          "base_uri": "https://localhost:8080/"
        },
        "id": "TmvVGb1T_3hZ",
        "outputId": "09c81bc3-07f3-4ffb-911d-c6252a423cca"
      },
      "source": [
        "dfDes=pd.read_csv('Supply_Food_Data_Descriptions.csv')\n",
        "dfDes"
      ],
      "execution_count": null,
      "outputs": [
        {
          "output_type": "execute_result",
          "data": {
            "text/html": [
              "<div>\n",
              "<style scoped>\n",
              "    .dataframe tbody tr th:only-of-type {\n",
              "        vertical-align: middle;\n",
              "    }\n",
              "\n",
              "    .dataframe tbody tr th {\n",
              "        vertical-align: top;\n",
              "    }\n",
              "\n",
              "    .dataframe thead th {\n",
              "        text-align: right;\n",
              "    }\n",
              "</style>\n",
              "<table border=\"1\" class=\"dataframe\">\n",
              "  <thead>\n",
              "    <tr style=\"text-align: right;\">\n",
              "      <th></th>\n",
              "      <th>Categories</th>\n",
              "      <th>Items</th>\n",
              "    </tr>\n",
              "  </thead>\n",
              "  <tbody>\n",
              "    <tr>\n",
              "      <th>0</th>\n",
              "      <td>Alcoholic Beverages</td>\n",
              "      <td>Alcohol, Non-Food; Beer; Beverages, Alcoholic;...</td>\n",
              "    </tr>\n",
              "    <tr>\n",
              "      <th>1</th>\n",
              "      <td>Animal fats</td>\n",
              "      <td>Butter, Ghee; Cream; Fats, Animals, Raw; Fish,...</td>\n",
              "    </tr>\n",
              "    <tr>\n",
              "      <th>2</th>\n",
              "      <td>Animal Products</td>\n",
              "      <td>Aquatic Animals, Others; Aquatic Plants; Bovin...</td>\n",
              "    </tr>\n",
              "    <tr>\n",
              "      <th>3</th>\n",
              "      <td>Aquatic Products, Other</td>\n",
              "      <td>Aquatic Animals, Others; Aquatic Plants; Meat,...</td>\n",
              "    </tr>\n",
              "    <tr>\n",
              "      <th>4</th>\n",
              "      <td>Cereals - Excluding Beer</td>\n",
              "      <td>Barley and products; Cereals, Other; Maize and...</td>\n",
              "    </tr>\n",
              "    <tr>\n",
              "      <th>5</th>\n",
              "      <td>Eggs</td>\n",
              "      <td>Eggs</td>\n",
              "    </tr>\n",
              "    <tr>\n",
              "      <th>6</th>\n",
              "      <td>Fish, Seafood</td>\n",
              "      <td>Cephalopods; Crustaceans; Demersal Fish; Fresh...</td>\n",
              "    </tr>\n",
              "    <tr>\n",
              "      <th>7</th>\n",
              "      <td>Fruits - Excluding Wine</td>\n",
              "      <td>Apples and products; Bananas; Citrus, Other; D...</td>\n",
              "    </tr>\n",
              "    <tr>\n",
              "      <th>8</th>\n",
              "      <td>Meat</td>\n",
              "      <td>Bovine Meat; Meat, Other; Mutton &amp; Goat Meat; ...</td>\n",
              "    </tr>\n",
              "    <tr>\n",
              "      <th>9</th>\n",
              "      <td>Milk - Excluding Butter</td>\n",
              "      <td>Milk - Excluding Butter</td>\n",
              "    </tr>\n",
              "    <tr>\n",
              "      <th>10</th>\n",
              "      <td>Miscellaneous</td>\n",
              "      <td>Infant food; Miscellaneous</td>\n",
              "    </tr>\n",
              "    <tr>\n",
              "      <th>11</th>\n",
              "      <td>Offals</td>\n",
              "      <td>Offals, Edible</td>\n",
              "    </tr>\n",
              "    <tr>\n",
              "      <th>12</th>\n",
              "      <td>Oilcrops</td>\n",
              "      <td>Coconuts - Incl Copra; Cottonseed; Groundnuts ...</td>\n",
              "    </tr>\n",
              "    <tr>\n",
              "      <th>13</th>\n",
              "      <td>Pulses</td>\n",
              "      <td>Beans; Peas; Pulses, Other and products</td>\n",
              "    </tr>\n",
              "    <tr>\n",
              "      <th>14</th>\n",
              "      <td>Spices</td>\n",
              "      <td>Cloves; Pepper; Pimento; Spices, Other</td>\n",
              "    </tr>\n",
              "    <tr>\n",
              "      <th>15</th>\n",
              "      <td>Starchy Roots</td>\n",
              "      <td>Cassava and products; Potatoes and products; R...</td>\n",
              "    </tr>\n",
              "    <tr>\n",
              "      <th>16</th>\n",
              "      <td>Stimulants</td>\n",
              "      <td>Cocoa Beans and products; Coffee and products;...</td>\n",
              "    </tr>\n",
              "    <tr>\n",
              "      <th>17</th>\n",
              "      <td>Sugar &amp; Sweeteners</td>\n",
              "      <td>Honey; Sugar (Raw Equivalent); Sugar non-centr...</td>\n",
              "    </tr>\n",
              "    <tr>\n",
              "      <th>18</th>\n",
              "      <td>Sugar Crops</td>\n",
              "      <td>Sugar beet; Sugar cane</td>\n",
              "    </tr>\n",
              "    <tr>\n",
              "      <th>19</th>\n",
              "      <td>Treenuts</td>\n",
              "      <td>Nuts and products</td>\n",
              "    </tr>\n",
              "    <tr>\n",
              "      <th>20</th>\n",
              "      <td>Vegetable Oils</td>\n",
              "      <td>Coconut Oil; Cottonseed Oil; Groundnut Oil; Ma...</td>\n",
              "    </tr>\n",
              "    <tr>\n",
              "      <th>21</th>\n",
              "      <td>Vegetables</td>\n",
              "      <td>Onions; Tomatoes and products; Vegetables, Other</td>\n",
              "    </tr>\n",
              "    <tr>\n",
              "      <th>22</th>\n",
              "      <td>Vegetal Products</td>\n",
              "      <td>Alcohol, Non-Food; Apples and products; Banana...</td>\n",
              "    </tr>\n",
              "  </tbody>\n",
              "</table>\n",
              "</div>"
            ],
            "text/plain": [
              "                  Categories  \\\n",
              "0        Alcoholic Beverages   \n",
              "1                Animal fats   \n",
              "2            Animal Products   \n",
              "3    Aquatic Products, Other   \n",
              "4   Cereals - Excluding Beer   \n",
              "5                       Eggs   \n",
              "6              Fish, Seafood   \n",
              "7    Fruits - Excluding Wine   \n",
              "8                       Meat   \n",
              "9    Milk - Excluding Butter   \n",
              "10             Miscellaneous   \n",
              "11                    Offals   \n",
              "12                  Oilcrops   \n",
              "13                    Pulses   \n",
              "14                    Spices   \n",
              "15             Starchy Roots   \n",
              "16                Stimulants   \n",
              "17        Sugar & Sweeteners   \n",
              "18               Sugar Crops   \n",
              "19                  Treenuts   \n",
              "20            Vegetable Oils   \n",
              "21                Vegetables   \n",
              "22          Vegetal Products   \n",
              "\n",
              "                                                Items  \n",
              "0   Alcohol, Non-Food; Beer; Beverages, Alcoholic;...  \n",
              "1   Butter, Ghee; Cream; Fats, Animals, Raw; Fish,...  \n",
              "2   Aquatic Animals, Others; Aquatic Plants; Bovin...  \n",
              "3   Aquatic Animals, Others; Aquatic Plants; Meat,...  \n",
              "4   Barley and products; Cereals, Other; Maize and...  \n",
              "5                                                Eggs  \n",
              "6   Cephalopods; Crustaceans; Demersal Fish; Fresh...  \n",
              "7   Apples and products; Bananas; Citrus, Other; D...  \n",
              "8   Bovine Meat; Meat, Other; Mutton & Goat Meat; ...  \n",
              "9                             Milk - Excluding Butter  \n",
              "10                         Infant food; Miscellaneous  \n",
              "11                                     Offals, Edible  \n",
              "12  Coconuts - Incl Copra; Cottonseed; Groundnuts ...  \n",
              "13            Beans; Peas; Pulses, Other and products  \n",
              "14             Cloves; Pepper; Pimento; Spices, Other  \n",
              "15  Cassava and products; Potatoes and products; R...  \n",
              "16  Cocoa Beans and products; Coffee and products;...  \n",
              "17  Honey; Sugar (Raw Equivalent); Sugar non-centr...  \n",
              "18                             Sugar beet; Sugar cane  \n",
              "19                                  Nuts and products  \n",
              "20  Coconut Oil; Cottonseed Oil; Groundnut Oil; Ma...  \n",
              "21   Onions; Tomatoes and products; Vegetables, Other  \n",
              "22  Alcohol, Non-Food; Apples and products; Banana...  "
            ]
          },
          "metadata": {
            "tags": []
          },
          "execution_count": 503
        }
      ]
    },
    {
      "cell_type": "code",
      "metadata": {
        "id": "cSUOup-j-6Jx",
        "outputId": "ecb5d924-1d38-45e5-89db-401a5fd8aa8b"
      },
      "source": [
        "dfDes.shape"
      ],
      "execution_count": null,
      "outputs": [
        {
          "output_type": "execute_result",
          "data": {
            "text/plain": [
              "(23, 2)"
            ]
          },
          "metadata": {
            "tags": []
          },
          "execution_count": 504
        }
      ]
    },
    {
      "cell_type": "code",
      "metadata": {
        "id": "FWwFbNBv-6Jx",
        "outputId": "b0db7bfc-a7b5-42e9-9714-78d60c3fc0ab"
      },
      "source": [
        "dfDes.info()"
      ],
      "execution_count": null,
      "outputs": [
        {
          "output_type": "stream",
          "text": [
            "<class 'pandas.core.frame.DataFrame'>\n",
            "RangeIndex: 23 entries, 0 to 22\n",
            "Data columns (total 2 columns):\n",
            " #   Column      Non-Null Count  Dtype \n",
            "---  ------      --------------  ----- \n",
            " 0   Categories  23 non-null     object\n",
            " 1   Items       23 non-null     object\n",
            "dtypes: object(2)\n",
            "memory usage: 496.0+ bytes\n"
          ],
          "name": "stdout"
        }
      ]
    },
    {
      "cell_type": "markdown",
      "metadata": {
        "id": "QIoKfAuv-6Jx"
      },
      "source": [
        "# Distribution of  COVID-19 cases"
      ]
    },
    {
      "cell_type": "markdown",
      "metadata": {
        "id": "RwtyMWq0-6Jx"
      },
      "source": [
        "We first plot four simple histograms to show the distribution of different COVID-19 cases for visual inspection. Because these data is all the same in the above four datasets, we extract the data from the `Fat Supply Quantity Data`. "
      ]
    },
    {
      "cell_type": "code",
      "metadata": {
        "id": "zDWhpCPO-6Jx",
        "outputId": "845502b6-5283-4f0b-c631-9e75c5cd8d02"
      },
      "source": [
        "covid_19_cases = dfFat[['Country', 'Confirmed', 'Deaths', 'Recovered', 'Active']]\n",
        "covid_19_cases"
      ],
      "execution_count": null,
      "outputs": [
        {
          "output_type": "execute_result",
          "data": {
            "text/html": [
              "<div>\n",
              "<style scoped>\n",
              "    .dataframe tbody tr th:only-of-type {\n",
              "        vertical-align: middle;\n",
              "    }\n",
              "\n",
              "    .dataframe tbody tr th {\n",
              "        vertical-align: top;\n",
              "    }\n",
              "\n",
              "    .dataframe thead th {\n",
              "        text-align: right;\n",
              "    }\n",
              "</style>\n",
              "<table border=\"1\" class=\"dataframe\">\n",
              "  <thead>\n",
              "    <tr style=\"text-align: right;\">\n",
              "      <th></th>\n",
              "      <th>Country</th>\n",
              "      <th>Confirmed</th>\n",
              "      <th>Deaths</th>\n",
              "      <th>Recovered</th>\n",
              "      <th>Active</th>\n",
              "    </tr>\n",
              "  </thead>\n",
              "  <tbody>\n",
              "    <tr>\n",
              "      <th>0</th>\n",
              "      <td>Afghanistan</td>\n",
              "      <td>0.142134</td>\n",
              "      <td>0.006186</td>\n",
              "      <td>0.123374</td>\n",
              "      <td>0.012574</td>\n",
              "    </tr>\n",
              "    <tr>\n",
              "      <th>1</th>\n",
              "      <td>Albania</td>\n",
              "      <td>2.967301</td>\n",
              "      <td>0.050951</td>\n",
              "      <td>1.792636</td>\n",
              "      <td>1.123714</td>\n",
              "    </tr>\n",
              "    <tr>\n",
              "      <th>2</th>\n",
              "      <td>Algeria</td>\n",
              "      <td>0.244897</td>\n",
              "      <td>0.006558</td>\n",
              "      <td>0.167572</td>\n",
              "      <td>0.070767</td>\n",
              "    </tr>\n",
              "    <tr>\n",
              "      <th>3</th>\n",
              "      <td>Angola</td>\n",
              "      <td>0.061687</td>\n",
              "      <td>0.001461</td>\n",
              "      <td>0.056808</td>\n",
              "      <td>0.003419</td>\n",
              "    </tr>\n",
              "    <tr>\n",
              "      <th>4</th>\n",
              "      <td>Antigua and Barbuda</td>\n",
              "      <td>0.293878</td>\n",
              "      <td>0.007143</td>\n",
              "      <td>0.190816</td>\n",
              "      <td>0.095918</td>\n",
              "    </tr>\n",
              "    <tr>\n",
              "      <th>...</th>\n",
              "      <td>...</td>\n",
              "      <td>...</td>\n",
              "      <td>...</td>\n",
              "      <td>...</td>\n",
              "      <td>...</td>\n",
              "    </tr>\n",
              "    <tr>\n",
              "      <th>165</th>\n",
              "      <td>Venezuela (Bolivarian Republic of)</td>\n",
              "      <td>0.452585</td>\n",
              "      <td>0.004287</td>\n",
              "      <td>0.424399</td>\n",
              "      <td>0.023899</td>\n",
              "    </tr>\n",
              "    <tr>\n",
              "      <th>166</th>\n",
              "      <td>Vietnam</td>\n",
              "      <td>0.002063</td>\n",
              "      <td>0.000036</td>\n",
              "      <td>0.001526</td>\n",
              "      <td>0.000501</td>\n",
              "    </tr>\n",
              "    <tr>\n",
              "      <th>167</th>\n",
              "      <td>Yemen</td>\n",
              "      <td>0.007131</td>\n",
              "      <td>0.002062</td>\n",
              "      <td>0.004788</td>\n",
              "      <td>0.000282</td>\n",
              "    </tr>\n",
              "    <tr>\n",
              "      <th>168</th>\n",
              "      <td>Zambia</td>\n",
              "      <td>0.334133</td>\n",
              "      <td>0.004564</td>\n",
              "      <td>0.290524</td>\n",
              "      <td>0.039045</td>\n",
              "    </tr>\n",
              "    <tr>\n",
              "      <th>169</th>\n",
              "      <td>Zimbabwe</td>\n",
              "      <td>0.232033</td>\n",
              "      <td>0.008854</td>\n",
              "      <td>0.190964</td>\n",
              "      <td>0.032214</td>\n",
              "    </tr>\n",
              "  </tbody>\n",
              "</table>\n",
              "<p>170 rows × 5 columns</p>\n",
              "</div>"
            ],
            "text/plain": [
              "                                Country  Confirmed    Deaths  Recovered  \\\n",
              "0                           Afghanistan   0.142134  0.006186   0.123374   \n",
              "1                               Albania   2.967301  0.050951   1.792636   \n",
              "2                               Algeria   0.244897  0.006558   0.167572   \n",
              "3                                Angola   0.061687  0.001461   0.056808   \n",
              "4                   Antigua and Barbuda   0.293878  0.007143   0.190816   \n",
              "..                                  ...        ...       ...        ...   \n",
              "165  Venezuela (Bolivarian Republic of)   0.452585  0.004287   0.424399   \n",
              "166                             Vietnam   0.002063  0.000036   0.001526   \n",
              "167                               Yemen   0.007131  0.002062   0.004788   \n",
              "168                              Zambia   0.334133  0.004564   0.290524   \n",
              "169                            Zimbabwe   0.232033  0.008854   0.190964   \n",
              "\n",
              "       Active  \n",
              "0    0.012574  \n",
              "1    1.123714  \n",
              "2    0.070767  \n",
              "3    0.003419  \n",
              "4    0.095918  \n",
              "..        ...  \n",
              "165  0.023899  \n",
              "166  0.000501  \n",
              "167  0.000282  \n",
              "168  0.039045  \n",
              "169  0.032214  \n",
              "\n",
              "[170 rows x 5 columns]"
            ]
          },
          "metadata": {
            "tags": []
          },
          "execution_count": 506
        }
      ]
    },
    {
      "cell_type": "code",
      "metadata": {
        "id": "HCeur1rv-6Jx",
        "outputId": "b5af2c73-86c3-4b31-b8de-54120ebe58c7"
      },
      "source": [
        "plt.figure(figsize=(8, 6))\n",
        "plt.hist(covid_19_cases['Confirmed'])\n",
        "plt.xlabel('Confirmed rate (%)')\n",
        "plt.ylabel('Number of Countries')\n",
        "plt.title('Histogram of Confirmed rate', fontsize=20)\n",
        "plt.show()"
      ],
      "execution_count": null,
      "outputs": [
        {
          "output_type": "display_data",
          "data": {
            "image/png": "[encoded data removed]",
            "text/plain": [
              "<Figure size 576x432 with 1 Axes>"
            ]
          },
          "metadata": {
            "tags": []
          }
        }
      ]
    },
    {
      "cell_type": "code",
      "metadata": {
        "id": "J4NxCqMU-6Jy",
        "outputId": "56bfea29-5328-42e8-fcaf-4c9ef838fdb9"
      },
      "source": [
        "plt.figure(figsize=(8, 6))\n",
        "plt.hist(covid_19_cases['Deaths'])\n",
        "plt.xlabel('Death rate (%)')\n",
        "plt.ylabel('Number Countries')\n",
        "plt.title('Histogram of death rate', fontsize=20)\n",
        "plt.show()"
      ],
      "execution_count": null,
      "outputs": [
        {
          "output_type": "display_data",
          "data": {
            "image/png": "[encoded data removed]",
            "text/plain": [
              "<Figure size 576x432 with 1 Axes>"
            ]
          },
          "metadata": {
            "tags": []
          }
        }
      ]
    },
    {
      "cell_type": "code",
      "metadata": {
        "id": "WGjTYA9w-6Jy",
        "outputId": "0283bb01-2785-4ea9-f0ce-ce64c476e91f"
      },
      "source": [
        "plt.figure(figsize=(8, 6))\n",
        "plt.hist(covid_19_cases['Recovered'])\n",
        "plt.xlabel('Recovered rate (%)')\n",
        "plt.ylabel('Number of Countries')\n",
        "plt.title('Histogram of recovered rate', fontsize=20)"
      ],
      "execution_count": null,
      "outputs": [
        {
          "output_type": "execute_result",
          "data": {
            "text/plain": [
              "Text(0.5, 1.0, 'Histogram of recovered rate')"
            ]
          },
          "metadata": {
            "tags": []
          },
          "execution_count": 515
        },
        {
          "output_type": "display_data",
          "data": {
            "image/png": "[encoded data removed]",
            "text/plain": [
              "<Figure size 576x432 with 1 Axes>"
            ]
          },
          "metadata": {
            "tags": []
          }
        }
      ]
    },
    {
      "cell_type": "code",
      "metadata": {
        "id": "hfNjF1WS-6Jy",
        "outputId": "c39e483a-0115-4bc9-e13b-8427c5afa336"
      },
      "source": [
        "plt.figure(figsize=(8, 6))\n",
        "plt.hist(covid_19_cases['Active'])\n",
        "plt.xlabel('Active rate (%)')\n",
        "plt.ylabel('Number of Countries')\n",
        "plt.title('Histogram of Active rate', fontsize=20)\n",
        "plt.show()"
      ],
      "execution_count": null,
      "outputs": [
        {
          "output_type": "display_data",
          "data": {
            "image/png": "[encoded data removed]",
            "text/plain": [
              "<Figure size 576x432 with 1 Axes>"
            ]
          },
          "metadata": {
            "tags": []
          }
        }
      ]
    },
    {
      "cell_type": "markdown",
      "metadata": {
        "id": "LrAuyNoO-6Jy"
      },
      "source": [
        "From these hostograms, it can be seen that covid-19 has a high infection rate, but the death rate is relatively low, which shows that most people can recover after being infected with covid-19. \n",
        "This means that the body’s immunity is vital to the fight against covid-19, and immunity is related to dietary structure, so it is necessary to study the relationship between dietary habits and covid-19"
      ]
    },
    {
      "cell_type": "markdown",
      "metadata": {
        "id": "ig3biFlr-6Jz"
      },
      "source": [
        "## Sort the COVID-19 Cases Data According to Confirmed Rate"
      ]
    },
    {
      "cell_type": "markdown",
      "metadata": {
        "id": "S6FGN9jb-6Jz"
      },
      "source": [
        "Considering that there are many countries related to the dataset, we first select two representative countries for comparative analysis. As shown below, by sorting the data according to confirmed rates, I can see that China is a country with a relatively low confirmed rate, while the United States is a relatively high country. Although they are not the countries with the highest or lowest comfirmed rates, the population and GDP of these two countries are similar, so I decided to study the data of these two countries first of all."
      ]
    },
    {
      "cell_type": "code",
      "metadata": {
        "id": "aNGbBqIc-6Jz",
        "outputId": "e5ced1cc-a493-460a-9e2a-332bb5fefadc"
      },
      "source": [
        "covid_19_cases = covid_19_cases.sort_values(by='Confirmed')\n",
        "covid_19_cases.head(20)"
      ],
      "execution_count": null,
      "outputs": [
        {
          "output_type": "execute_result",
          "data": {
            "text/html": [
              "<div>\n",
              "<style scoped>\n",
              "    .dataframe tbody tr th:only-of-type {\n",
              "        vertical-align: middle;\n",
              "    }\n",
              "\n",
              "    .dataframe tbody tr th {\n",
              "        vertical-align: top;\n",
              "    }\n",
              "\n",
              "    .dataframe thead th {\n",
              "        text-align: right;\n",
              "    }\n",
              "</style>\n",
              "<table border=\"1\" class=\"dataframe\">\n",
              "  <thead>\n",
              "    <tr style=\"text-align: right;\">\n",
              "      <th></th>\n",
              "      <th>Country</th>\n",
              "      <th>Confirmed</th>\n",
              "      <th>Deaths</th>\n",
              "      <th>Recovered</th>\n",
              "      <th>Active</th>\n",
              "    </tr>\n",
              "  </thead>\n",
              "  <tbody>\n",
              "    <tr>\n",
              "      <th>164</th>\n",
              "      <td>Vanuatu</td>\n",
              "      <td>0.000312</td>\n",
              "      <td>0.000000</td>\n",
              "      <td>0.000312</td>\n",
              "      <td>0.000000</td>\n",
              "    </tr>\n",
              "    <tr>\n",
              "      <th>85</th>\n",
              "      <td>Lao People's Democratic Republic</td>\n",
              "      <td>0.000621</td>\n",
              "      <td>0.000000</td>\n",
              "      <td>0.000566</td>\n",
              "      <td>0.000055</td>\n",
              "    </tr>\n",
              "    <tr>\n",
              "      <th>160</th>\n",
              "      <td>United Republic of Tanzania</td>\n",
              "      <td>0.000852</td>\n",
              "      <td>0.000035</td>\n",
              "      <td>0.000306</td>\n",
              "      <td>0.000511</td>\n",
              "    </tr>\n",
              "    <tr>\n",
              "      <th>131</th>\n",
              "      <td>Samoa</td>\n",
              "      <td>0.001000</td>\n",
              "      <td>0.000000</td>\n",
              "      <td>0.001000</td>\n",
              "      <td>0.000000</td>\n",
              "    </tr>\n",
              "    <tr>\n",
              "      <th>166</th>\n",
              "      <td>Vietnam</td>\n",
              "      <td>0.002063</td>\n",
              "      <td>0.000036</td>\n",
              "      <td>0.001526</td>\n",
              "      <td>0.000501</td>\n",
              "    </tr>\n",
              "    <tr>\n",
              "      <th>139</th>\n",
              "      <td>Solomon Islands</td>\n",
              "      <td>0.002378</td>\n",
              "      <td>0.000000</td>\n",
              "      <td>0.001399</td>\n",
              "      <td>0.000979</td>\n",
              "    </tr>\n",
              "    <tr>\n",
              "      <th>24</th>\n",
              "      <td>Cambodia</td>\n",
              "      <td>0.003059</td>\n",
              "      <td>0.000000</td>\n",
              "      <td>0.002930</td>\n",
              "      <td>0.000129</td>\n",
              "    </tr>\n",
              "    <tr>\n",
              "      <th>147</th>\n",
              "      <td>Taiwan*</td>\n",
              "      <td>0.003914</td>\n",
              "      <td>0.000038</td>\n",
              "      <td>0.003571</td>\n",
              "      <td>0.000305</td>\n",
              "    </tr>\n",
              "    <tr>\n",
              "      <th>150</th>\n",
              "      <td>Timor-Leste</td>\n",
              "      <td>0.006070</td>\n",
              "      <td>0.000000</td>\n",
              "      <td>0.004628</td>\n",
              "      <td>0.001442</td>\n",
              "    </tr>\n",
              "    <tr>\n",
              "      <th>49</th>\n",
              "      <td>Fiji</td>\n",
              "      <td>0.006250</td>\n",
              "      <td>0.000223</td>\n",
              "      <td>0.005915</td>\n",
              "      <td>0.000112</td>\n",
              "    </tr>\n",
              "    <tr>\n",
              "      <th>167</th>\n",
              "      <td>Yemen</td>\n",
              "      <td>0.007131</td>\n",
              "      <td>0.002062</td>\n",
              "      <td>0.004788</td>\n",
              "      <td>0.000282</td>\n",
              "    </tr>\n",
              "    <tr>\n",
              "      <th>30</th>\n",
              "      <td>China</td>\n",
              "      <td>0.007156</td>\n",
              "      <td>0.000344</td>\n",
              "      <td>0.006685</td>\n",
              "      <td>0.000126</td>\n",
              "    </tr>\n",
              "    <tr>\n",
              "      <th>112</th>\n",
              "      <td>Niger</td>\n",
              "      <td>0.019009</td>\n",
              "      <td>0.000682</td>\n",
              "      <td>0.016330</td>\n",
              "      <td>0.001997</td>\n",
              "    </tr>\n",
              "    <tr>\n",
              "      <th>28</th>\n",
              "      <td>Chad</td>\n",
              "      <td>0.020578</td>\n",
              "      <td>0.000741</td>\n",
              "      <td>0.016881</td>\n",
              "      <td>0.002957</td>\n",
              "    </tr>\n",
              "    <tr>\n",
              "      <th>16</th>\n",
              "      <td>Benin</td>\n",
              "      <td>0.034344</td>\n",
              "      <td>0.000450</td>\n",
              "      <td>0.029183</td>\n",
              "      <td>0.004710</td>\n",
              "    </tr>\n",
              "    <tr>\n",
              "      <th>149</th>\n",
              "      <td>Thailand</td>\n",
              "      <td>0.035126</td>\n",
              "      <td>0.000119</td>\n",
              "      <td>0.025464</td>\n",
              "      <td>0.009544</td>\n",
              "    </tr>\n",
              "    <tr>\n",
              "      <th>89</th>\n",
              "      <td>Liberia</td>\n",
              "      <td>0.038671</td>\n",
              "      <td>0.001661</td>\n",
              "      <td>0.034994</td>\n",
              "      <td>0.002017</td>\n",
              "    </tr>\n",
              "    <tr>\n",
              "      <th>96</th>\n",
              "      <td>Mali</td>\n",
              "      <td>0.040294</td>\n",
              "      <td>0.001669</td>\n",
              "      <td>0.029895</td>\n",
              "      <td>0.008730</td>\n",
              "    </tr>\n",
              "    <tr>\n",
              "      <th>99</th>\n",
              "      <td>Mauritius</td>\n",
              "      <td>0.046166</td>\n",
              "      <td>0.000791</td>\n",
              "      <td>0.042688</td>\n",
              "      <td>0.002688</td>\n",
              "    </tr>\n",
              "    <tr>\n",
              "      <th>110</th>\n",
              "      <td>New Zealand</td>\n",
              "      <td>0.046521</td>\n",
              "      <td>0.000501</td>\n",
              "      <td>0.044696</td>\n",
              "      <td>0.001323</td>\n",
              "    </tr>\n",
              "  </tbody>\n",
              "</table>\n",
              "</div>"
            ],
            "text/plain": [
              "                              Country  Confirmed    Deaths  Recovered  \\\n",
              "164                           Vanuatu   0.000312  0.000000   0.000312   \n",
              "85   Lao People's Democratic Republic   0.000621  0.000000   0.000566   \n",
              "160       United Republic of Tanzania   0.000852  0.000035   0.000306   \n",
              "131                             Samoa   0.001000  0.000000   0.001000   \n",
              "166                           Vietnam   0.002063  0.000036   0.001526   \n",
              "139                   Solomon Islands   0.002378  0.000000   0.001399   \n",
              "24                           Cambodia   0.003059  0.000000   0.002930   \n",
              "147                           Taiwan*   0.003914  0.000038   0.003571   \n",
              "150                       Timor-Leste   0.006070  0.000000   0.004628   \n",
              "49                               Fiji   0.006250  0.000223   0.005915   \n",
              "167                             Yemen   0.007131  0.002062   0.004788   \n",
              "30                              China   0.007156  0.000344   0.006685   \n",
              "112                             Niger   0.019009  0.000682   0.016330   \n",
              "28                               Chad   0.020578  0.000741   0.016881   \n",
              "16                              Benin   0.034344  0.000450   0.029183   \n",
              "149                          Thailand   0.035126  0.000119   0.025464   \n",
              "89                            Liberia   0.038671  0.001661   0.034994   \n",
              "96                               Mali   0.040294  0.001669   0.029895   \n",
              "99                          Mauritius   0.046166  0.000791   0.042688   \n",
              "110                       New Zealand   0.046521  0.000501   0.044696   \n",
              "\n",
              "       Active  \n",
              "164  0.000000  \n",
              "85   0.000055  \n",
              "160  0.000511  \n",
              "131  0.000000  \n",
              "166  0.000501  \n",
              "139  0.000979  \n",
              "24   0.000129  \n",
              "147  0.000305  \n",
              "150  0.001442  \n",
              "49   0.000112  \n",
              "167  0.000282  \n",
              "30   0.000126  \n",
              "112  0.001997  \n",
              "28   0.002957  \n",
              "16   0.004710  \n",
              "149  0.009544  \n",
              "89   0.002017  \n",
              "96   0.008730  \n",
              "99   0.002688  \n",
              "110  0.001323  "
            ]
          },
          "metadata": {
            "tags": []
          },
          "execution_count": 102
        }
      ]
    },
    {
      "cell_type": "code",
      "metadata": {
        "id": "GhGqVTG2-6Jz",
        "outputId": "c5e0e230-f196-4e90-a0ac-52ccbebd5122"
      },
      "source": [
        "covid_19_cases.tail(10)"
      ],
      "execution_count": null,
      "outputs": [
        {
          "output_type": "execute_result",
          "data": {
            "text/html": [
              "<div>\n",
              "<style scoped>\n",
              "    .dataframe tbody tr th:only-of-type {\n",
              "        vertical-align: middle;\n",
              "    }\n",
              "\n",
              "    .dataframe tbody tr th {\n",
              "        vertical-align: top;\n",
              "    }\n",
              "\n",
              "    .dataframe thead th {\n",
              "        text-align: right;\n",
              "    }\n",
              "</style>\n",
              "<table border=\"1\" class=\"dataframe\">\n",
              "  <thead>\n",
              "    <tr style=\"text-align: right;\">\n",
              "      <th></th>\n",
              "      <th>Country</th>\n",
              "      <th>Confirmed</th>\n",
              "      <th>Deaths</th>\n",
              "      <th>Recovered</th>\n",
              "      <th>Active</th>\n",
              "    </tr>\n",
              "  </thead>\n",
              "  <tbody>\n",
              "    <tr>\n",
              "      <th>161</th>\n",
              "      <td>United States of America</td>\n",
              "      <td>8.159922</td>\n",
              "      <td>0.140103</td>\n",
              "      <td>0.000000</td>\n",
              "      <td>8.019819</td>\n",
              "    </tr>\n",
              "    <tr>\n",
              "      <th>138</th>\n",
              "      <td>Slovenia</td>\n",
              "      <td>8.235901</td>\n",
              "      <td>0.171755</td>\n",
              "      <td>7.312934</td>\n",
              "      <td>0.751213</td>\n",
              "    </tr>\n",
              "    <tr>\n",
              "      <th>38</th>\n",
              "      <td>Czechia</td>\n",
              "      <td>9.612841</td>\n",
              "      <td>0.159845</td>\n",
              "      <td>8.555328</td>\n",
              "      <td>0.897667</td>\n",
              "    </tr>\n",
              "    <tr>\n",
              "      <th>102</th>\n",
              "      <td>Montenegro</td>\n",
              "      <td>10.408199</td>\n",
              "      <td>0.134405</td>\n",
              "      <td>9.039871</td>\n",
              "      <td>1.233923</td>\n",
              "    </tr>\n",
              "    <tr>\n",
              "      <th>52</th>\n",
              "      <td>French Polynesia</td>\n",
              "      <td>NaN</td>\n",
              "      <td>NaN</td>\n",
              "      <td>NaN</td>\n",
              "      <td>NaN</td>\n",
              "    </tr>\n",
              "    <tr>\n",
              "      <th>80</th>\n",
              "      <td>Kiribati</td>\n",
              "      <td>NaN</td>\n",
              "      <td>NaN</td>\n",
              "      <td>NaN</td>\n",
              "      <td>NaN</td>\n",
              "    </tr>\n",
              "    <tr>\n",
              "      <th>81</th>\n",
              "      <td>Korea, North</td>\n",
              "      <td>NaN</td>\n",
              "      <td>NaN</td>\n",
              "      <td>NaN</td>\n",
              "      <td>NaN</td>\n",
              "    </tr>\n",
              "    <tr>\n",
              "      <th>105</th>\n",
              "      <td>Myanmar</td>\n",
              "      <td>NaN</td>\n",
              "      <td>NaN</td>\n",
              "      <td>NaN</td>\n",
              "      <td>NaN</td>\n",
              "    </tr>\n",
              "    <tr>\n",
              "      <th>109</th>\n",
              "      <td>New Caledonia</td>\n",
              "      <td>NaN</td>\n",
              "      <td>NaN</td>\n",
              "      <td>NaN</td>\n",
              "      <td>NaN</td>\n",
              "    </tr>\n",
              "    <tr>\n",
              "      <th>155</th>\n",
              "      <td>Turkmenistan</td>\n",
              "      <td>NaN</td>\n",
              "      <td>NaN</td>\n",
              "      <td>NaN</td>\n",
              "      <td>NaN</td>\n",
              "    </tr>\n",
              "  </tbody>\n",
              "</table>\n",
              "</div>"
            ],
            "text/plain": [
              "                      Country  Confirmed    Deaths  Recovered    Active\n",
              "161  United States of America   8.159922  0.140103   0.000000  8.019819\n",
              "138                  Slovenia   8.235901  0.171755   7.312934  0.751213\n",
              "38                    Czechia   9.612841  0.159845   8.555328  0.897667\n",
              "102                Montenegro  10.408199  0.134405   9.039871  1.233923\n",
              "52           French Polynesia        NaN       NaN        NaN       NaN\n",
              "80                   Kiribati        NaN       NaN        NaN       NaN\n",
              "81               Korea, North        NaN       NaN        NaN       NaN\n",
              "105                   Myanmar        NaN       NaN        NaN       NaN\n",
              "109             New Caledonia        NaN       NaN        NaN       NaN\n",
              "155              Turkmenistan        NaN       NaN        NaN       NaN"
            ]
          },
          "metadata": {
            "tags": []
          },
          "execution_count": 101
        }
      ]
    },
    {
      "cell_type": "markdown",
      "metadata": {
        "id": "rG60xz-P-6J0"
      },
      "source": [
        "## The COVID-19 Cases Comparison between US and China"
      ]
    },
    {
      "cell_type": "markdown",
      "metadata": {
        "id": "BSul9MBn-6J0"
      },
      "source": [
        "First we select the covid-19 cases data of China and the United States of America for visual checking, and then visualize it with charts for visual checking."
      ]
    },
    {
      "cell_type": "code",
      "metadata": {
        "id": "fhPyexUS-6J0",
        "outputId": "6f48c004-eaac-47f8-90f7-babb85a1c918"
      },
      "source": [
        "us_china = covid_19_cases[covid_19_cases['Country'].isin(['China', 'United States of America'])]\n",
        "us_china"
      ],
      "execution_count": null,
      "outputs": [
        {
          "output_type": "execute_result",
          "data": {
            "text/html": [
              "<div>\n",
              "<style scoped>\n",
              "    .dataframe tbody tr th:only-of-type {\n",
              "        vertical-align: middle;\n",
              "    }\n",
              "\n",
              "    .dataframe tbody tr th {\n",
              "        vertical-align: top;\n",
              "    }\n",
              "\n",
              "    .dataframe thead th {\n",
              "        text-align: right;\n",
              "    }\n",
              "</style>\n",
              "<table border=\"1\" class=\"dataframe\">\n",
              "  <thead>\n",
              "    <tr style=\"text-align: right;\">\n",
              "      <th></th>\n",
              "      <th>Country</th>\n",
              "      <th>Confirmed</th>\n",
              "      <th>Deaths</th>\n",
              "      <th>Recovered</th>\n",
              "      <th>Active</th>\n",
              "    </tr>\n",
              "  </thead>\n",
              "  <tbody>\n",
              "    <tr>\n",
              "      <th>30</th>\n",
              "      <td>China</td>\n",
              "      <td>0.007156</td>\n",
              "      <td>0.000344</td>\n",
              "      <td>0.006685</td>\n",
              "      <td>0.000126</td>\n",
              "    </tr>\n",
              "    <tr>\n",
              "      <th>161</th>\n",
              "      <td>United States of America</td>\n",
              "      <td>8.159922</td>\n",
              "      <td>0.140103</td>\n",
              "      <td>0.000000</td>\n",
              "      <td>8.019819</td>\n",
              "    </tr>\n",
              "  </tbody>\n",
              "</table>\n",
              "</div>"
            ],
            "text/plain": [
              "                      Country  Confirmed    Deaths  Recovered    Active\n",
              "30                      China   0.007156  0.000344   0.006685  0.000126\n",
              "161  United States of America   8.159922  0.140103   0.000000  8.019819"
            ]
          },
          "metadata": {
            "tags": []
          },
          "execution_count": 178
        }
      ]
    },
    {
      "cell_type": "code",
      "metadata": {
        "id": "QPEBHvLM-6J0",
        "outputId": "af769e2d-1e97-4b86-b302-2b23265048f8"
      },
      "source": [
        "# change the index for convenience\n",
        "us_china = us_china.set_index('Country')\n",
        "us_china"
      ],
      "execution_count": null,
      "outputs": [
        {
          "output_type": "execute_result",
          "data": {
            "text/html": [
              "<div>\n",
              "<style scoped>\n",
              "    .dataframe tbody tr th:only-of-type {\n",
              "        vertical-align: middle;\n",
              "    }\n",
              "\n",
              "    .dataframe tbody tr th {\n",
              "        vertical-align: top;\n",
              "    }\n",
              "\n",
              "    .dataframe thead th {\n",
              "        text-align: right;\n",
              "    }\n",
              "</style>\n",
              "<table border=\"1\" class=\"dataframe\">\n",
              "  <thead>\n",
              "    <tr style=\"text-align: right;\">\n",
              "      <th></th>\n",
              "      <th>Confirmed</th>\n",
              "      <th>Deaths</th>\n",
              "      <th>Recovered</th>\n",
              "      <th>Active</th>\n",
              "    </tr>\n",
              "    <tr>\n",
              "      <th>Country</th>\n",
              "      <th></th>\n",
              "      <th></th>\n",
              "      <th></th>\n",
              "      <th></th>\n",
              "    </tr>\n",
              "  </thead>\n",
              "  <tbody>\n",
              "    <tr>\n",
              "      <th>China</th>\n",
              "      <td>0.007156</td>\n",
              "      <td>0.000344</td>\n",
              "      <td>0.006685</td>\n",
              "      <td>0.000126</td>\n",
              "    </tr>\n",
              "    <tr>\n",
              "      <th>United States of America</th>\n",
              "      <td>8.159922</td>\n",
              "      <td>0.140103</td>\n",
              "      <td>0.000000</td>\n",
              "      <td>8.019819</td>\n",
              "    </tr>\n",
              "  </tbody>\n",
              "</table>\n",
              "</div>"
            ],
            "text/plain": [
              "                          Confirmed    Deaths  Recovered    Active\n",
              "Country                                                           \n",
              "China                      0.007156  0.000344   0.006685  0.000126\n",
              "United States of America   8.159922  0.140103   0.000000  8.019819"
            ]
          },
          "metadata": {
            "tags": []
          },
          "execution_count": 179
        }
      ]
    },
    {
      "cell_type": "markdown",
      "metadata": {
        "id": "8n6BGABo-6J0"
      },
      "source": [
        "Create a grouped bar chart and annotate bars with labels for comparision"
      ]
    },
    {
      "cell_type": "code",
      "metadata": {
        "id": "KzjYlwPH-6J1",
        "outputId": "12d6854a-9224-4f06-b677-56e1bec4efb9"
      },
      "source": [
        "labels = us_china.columns\n",
        "china_cases = us_china.loc['China']\n",
        "us_cases = us_china.loc['United States of America']\n",
        "\n",
        "x = np.arange(len(labels))  # the label locations\n",
        "width = 0.35  # the width of the bars\n",
        "\n",
        "fig, ax = plt.subplots(figsize=(10, 10))\n",
        "rects1 = ax.bar(x - width/2, china_cases, width, label='China')\n",
        "rects2 = ax.bar(x + width/2, us_cases, width, label='US')\n",
        "\n",
        "# Add some text for labels, title and custom x-axis tick labels, etc.\n",
        "ax.set_ylabel('Rate (%)')\n",
        "ax.set_title('COVID-19 Cases Comparision between US and China')\n",
        "ax.set_xticks(x)\n",
        "ax.set_xticklabels(labels)\n",
        "ax.legend()\n",
        "\n",
        "def autolabel(rects):\n",
        "    \"\"\"Attach a text label above each bar in *rects*, displaying its height.\"\"\"\n",
        "    for rect in rects:\n",
        "        height = rect.get_height()\n",
        "        ax.annotate('{:.4f}'.format(height),\n",
        "                    xy=(rect.get_x() + rect.get_width() / 2, height),\n",
        "                    xytext=(0, 3),  # 3 points vertical offset\n",
        "                    textcoords=\"offset points\",\n",
        "                    ha='center', va='bottom')\n",
        "\n",
        "autolabel(rects1)\n",
        "autolabel(rects2)\n",
        "\n",
        "fig.tight_layout()\n",
        "\n",
        "plt.show()"
      ],
      "execution_count": null,
      "outputs": [
        {
          "output_type": "display_data",
          "data": {
            "image/png": "[encoded data removed]",
            "text/plain": [
              "<Figure size 720x720 with 1 Axes>"
            ]
          },
          "metadata": {
            "tags": []
          }
        }
      ]
    },
    {
      "cell_type": "code",
      "metadata": {
        "id": "xQ7ks8s6-6J1"
      },
      "source": [
        ""
      ],
      "execution_count": null,
      "outputs": []
    },
    {
      "cell_type": "markdown",
      "metadata": {
        "id": "l0lXmCGH-6J2"
      },
      "source": [
        "Next I use pandas to calculate the proportion of deaths, recovery and active people among all confirmed people in China and US and visualize it. Because people who are dead, recovered, and active are unbalanced, I use softmax to adjust the number of people so that the bar chart looks beautiful, but the values displayed are real."
      ]
    },
    {
      "cell_type": "code",
      "metadata": {
        "id": "xWiKTmua-6J2"
      },
      "source": [
        "us_china.loc['China'] = us_china.loc['China'] / us_china.loc['China']['Confirmed']\n",
        "us_china.loc['United States of America'] = us_china.loc['United States of America'] / us_china.loc['United States of America']['Confirmed']"
      ],
      "execution_count": null,
      "outputs": []
    },
    {
      "cell_type": "code",
      "metadata": {
        "id": "70v7qLqk-6J3",
        "outputId": "b45642e9-98fe-449b-8d3c-c6e8e042ee8d"
      },
      "source": [
        "us_china"
      ],
      "execution_count": null,
      "outputs": [
        {
          "output_type": "execute_result",
          "data": {
            "text/html": [
              "<div>\n",
              "<style scoped>\n",
              "    .dataframe tbody tr th:only-of-type {\n",
              "        vertical-align: middle;\n",
              "    }\n",
              "\n",
              "    .dataframe tbody tr th {\n",
              "        vertical-align: top;\n",
              "    }\n",
              "\n",
              "    .dataframe thead th {\n",
              "        text-align: right;\n",
              "    }\n",
              "</style>\n",
              "<table border=\"1\" class=\"dataframe\">\n",
              "  <thead>\n",
              "    <tr style=\"text-align: right;\">\n",
              "      <th></th>\n",
              "      <th>Confirmed</th>\n",
              "      <th>Deaths</th>\n",
              "      <th>Recovered</th>\n",
              "      <th>Active</th>\n",
              "    </tr>\n",
              "    <tr>\n",
              "      <th>Country</th>\n",
              "      <th></th>\n",
              "      <th></th>\n",
              "      <th></th>\n",
              "      <th></th>\n",
              "    </tr>\n",
              "  </thead>\n",
              "  <tbody>\n",
              "    <tr>\n",
              "      <th>China</th>\n",
              "      <td>1.0</td>\n",
              "      <td>0.048053</td>\n",
              "      <td>0.934269</td>\n",
              "      <td>0.017678</td>\n",
              "    </tr>\n",
              "    <tr>\n",
              "      <th>United States of America</th>\n",
              "      <td>1.0</td>\n",
              "      <td>0.017170</td>\n",
              "      <td>0.000000</td>\n",
              "      <td>0.982830</td>\n",
              "    </tr>\n",
              "  </tbody>\n",
              "</table>\n",
              "</div>"
            ],
            "text/plain": [
              "                          Confirmed    Deaths  Recovered    Active\n",
              "Country                                                           \n",
              "China                           1.0  0.048053   0.934269  0.017678\n",
              "United States of America        1.0  0.017170   0.000000  0.982830"
            ]
          },
          "metadata": {
            "tags": []
          },
          "execution_count": 181
        }
      ]
    },
    {
      "cell_type": "code",
      "metadata": {
        "id": "UfIq7YZH-6J3",
        "outputId": "34335659-5960-46e3-f8c1-fa73e76d6d7a"
      },
      "source": [
        "import numpy as np\n",
        "import matplotlib.pyplot as plt\n",
        "\n",
        "category_names = us_china.columns[1:]\n",
        "results = {\n",
        "    'China': us_china.loc['China'][1:],\n",
        "    'US': us_china.loc['United States of America'][1:],\n",
        "}\n",
        "\n",
        "def softmax(x):\n",
        "    return np.e**x / np.sum(np.e**x)\n",
        "\n",
        "softmax_results = {\n",
        "    'China': softmax(results['China']),\n",
        "    'US': softmax(results['US']),\n",
        "}\n",
        "\n",
        "\n",
        "def survey(results, softmax_results, category_names):\n",
        "    \"\"\"\n",
        "    Parameters\n",
        "    ----------\n",
        "    results : dict\n",
        "        A mapping from question labels to a list of answers per category.\n",
        "        It is assumed all lists contain the same number of entries and that\n",
        "        it matches the length of *category_names*.\n",
        "    category_names : list of str\n",
        "        The category labels.\n",
        "    \"\"\"\n",
        "    labels = list(results.keys())\n",
        "    labels_data = np.array(list(results.values()))\n",
        "    data = np.array(list(softmax_results.values()))\n",
        "    data_cum = data.cumsum(axis=1)\n",
        "    category_colors = plt.get_cmap('RdYlGn')(\n",
        "        np.linspace(0.15, 0.85, data.shape[1]))\n",
        "\n",
        "    fig, ax = plt.subplots(figsize=(9.2, 3))\n",
        "    ax.invert_yaxis()\n",
        "    ax.xaxis.set_visible(False)\n",
        "    ax.set_xlim(0, np.sum(data, axis=1).max())\n",
        "\n",
        "    for i, (colname, color) in enumerate(zip(category_names, category_colors)):\n",
        "        widths = data[:, i]\n",
        "        starts = data_cum[:, i] - widths\n",
        "        ax.barh(labels, widths, left=starts, height=0.5,\n",
        "                label=colname, color=color)\n",
        "        xcenters = starts + widths / 2\n",
        "\n",
        "        r, g, b, _ = color\n",
        "        text_color = 'white' if r * g * b < 0.5 else 'darkgrey'\n",
        "        for y, (x, _) in enumerate(zip(xcenters, widths)):\n",
        "            c = labels_data[y, i]\n",
        "            ax.text(x, y, '{:.6}'.format(c), ha='center', va='center',\n",
        "                    color=text_color)\n",
        "    ax.legend(ncol=len(category_names), bbox_to_anchor=(0, 1),\n",
        "              loc='lower left', fontsize='small')\n",
        "\n",
        "    return fig, ax\n",
        "\n",
        "survey(results, softmax_results, category_names)\n",
        "plt.show()"
      ],
      "execution_count": null,
      "outputs": [
        {
          "output_type": "display_data",
          "data": {
            "image/png": "[encoded data removed]",
            "text/plain": [
              "<Figure size 662.4x216 with 1 Axes>"
            ]
          },
          "metadata": {
            "tags": []
          }
        }
      ]
    },
    {
      "cell_type": "markdown",
      "metadata": {
        "id": "pjp6Okmr-6J4"
      },
      "source": [
        "I can see that although the confirmed rate in the United States is higher than China, but the death rate is lower than China, excluding the vast majority of people who are in active states. "
      ]
    },
    {
      "cell_type": "markdown",
      "metadata": {
        "id": "mbqBdSkE-6J4"
      },
      "source": [
        "# Explore the Relationship of Diet and COVID-19 between China and US "
      ]
    },
    {
      "cell_type": "markdown",
      "metadata": {
        "id": "WobjGvJi-6J4"
      },
      "source": [
        "## Data Analalysis and Plots for Fat Supply Quantity Data"
      ]
    },
    {
      "cell_type": "code",
      "metadata": {
        "id": "1WLE0HMe01Bn"
      },
      "source": [
        "#US data analysis and plots for fat consumption\n",
        "dfFat_us = dfFat.loc[dfFat['Country']=='United States of America']\n",
        "dfFat_us = dfus.iloc[:,1:24]"
      ],
      "execution_count": null,
      "outputs": []
    },
    {
      "cell_type": "code",
      "metadata": {
        "colab": {
          "base_uri": "https://localhost:8080/"
        },
        "id": "9FzvlRteUwCQ",
        "outputId": "b6ffade4-db84-42dc-f77c-ab6884c9e3e8"
      },
      "source": [
        "dfFat_us.iloc[0].sort_values()"
      ],
      "execution_count": null,
      "outputs": [
        {
          "output_type": "execute_result",
          "data": {
            "text/plain": [
              "Alcoholic Beverages          0.0000\n",
              "Sugar & Sweeteners           0.0000\n",
              "Sugar Crops                  0.0000\n",
              "Aquatic Products, Other      0.0000\n",
              "Miscellaneous                0.0000\n",
              "Offals                       0.0090\n",
              "Pulses                       0.0449\n",
              "Starchy Roots                0.0478\n",
              "Spices                       0.0867\n",
              "Vegetables                   0.1944\n",
              "Fish, Seafood                0.3887\n",
              "Stimulants                   0.3977\n",
              "Fruits - Excluding Wine      0.4426\n",
              "Treenuts                     0.9420\n",
              "Eggs                         1.2500\n",
              "Cereals - Excluding Beer     1.2829\n",
              "Oilcrops                     1.7464\n",
              "Animal fats                  3.3013\n",
              "Milk - Excluding Butter      6.8359\n",
              "Meat                         9.4166\n",
              "Animal Products             21.2045\n",
              "Vegetable Oils              23.6117\n",
              "Vegetal Products            28.7970\n",
              "Name: 161, dtype: float64"
            ]
          },
          "metadata": {
            "tags": []
          },
          "execution_count": 346
        }
      ]
    },
    {
      "cell_type": "code",
      "metadata": {
        "colab": {
          "base_uri": "https://localhost:8080/",
          "height": 402
        },
        "id": "N9w414nPUwCR",
        "outputId": "cb91691d-33f7-46d3-eb61-f66971d0c29b"
      },
      "source": [
        "#build a pie chart to see percentage of fat consumed for us\n",
        "from matplotlib.patches import ConnectionPatch\n",
        "\n",
        "plt.style.use('ggplot')\n",
        "fig = plt.figure(figsize=(15, 15))\n",
        "ax1 = fig.add_subplot(221)\n",
        "ax2 = fig.add_subplot(222)\n",
        "fig.subplots_adjust(wspace=0)\n",
        "\n",
        "fat_us = dfFat_us.iloc[0].sort_values(ascending=False)\n",
        "\n",
        "# parameters for pie chart\n",
        "in_pie = fat_us[:6] \n",
        "in_pie = in_pie.append(pd.Series(sum(fat_us[6:]), index=['others']))\n",
        "\n",
        "explode = [0, 0, 0, 0, 0, 0, 0.1]\n",
        "\n",
        "ax1.pie(in_pie, labels=in_pie.index, autopct='%1.lf%%', startangle=10, explode=explode)\n",
        "ax1.set_title('Fat Consumption for US')\n",
        "\n",
        "# parameters for bar chart\n",
        "xpos = 0\n",
        "bottom = 0\n",
        "in_bar = fat_us[6:] / sum(fat_us[6:])\n",
        "width = .2\n",
        "\n",
        "for j in range(len(in_bar)):\n",
        "    height = in_bar[j] + 0.05 ## plus 0.05 avoid too small\n",
        "    ax2.bar(xpos, height, width, bottom=bottom)\n",
        "    ypos = bottom + ax2.patches[j].get_height() / 2\n",
        "    bottom += height\n",
        "    ax2.text(xpos, ypos / 1.01, \"%d%%\" % (in_bar[j] * 100), ha='center')\n",
        "    \n",
        "# ax2.set_title('Age of approvers')\n",
        "ax2.legend(in_bar.index)\n",
        "ax2.axis('off')\n",
        "ax2.set_xlim(- 2.5 * width, 2.5 * width)\n",
        "\n",
        "# use ConnectionPatch to draw lines between the two plots\n",
        "# get the wedge data\n",
        "theta1, theta2 = ax1.patches[6].theta1, ax1.patches[6].theta2\n",
        "center, r = ax1.patches[0].center, ax1.patches[0].r\n",
        "bar_height = sum([item.get_height() for item in ax2.patches])\n",
        "\n",
        "# draw top connecting line\n",
        "x = r * np.cos(np.pi / 180 * theta2) + center[0]\n",
        "y = r * np.sin(np.pi / 180 * theta2) + center[1]\n",
        "con = ConnectionPatch(xyA=(-width / 2, bar_height), coordsA=ax2.transData,\n",
        "                      xyB=(x, y), coordsB=ax1.transData)\n",
        "con.set_color([0, 0, 0])\n",
        "con.set_linewidth(1)\n",
        "ax2.add_artist(con)\n",
        "\n",
        "# draw bottom connecting line\n",
        "x = r * np.cos(np.pi / 180 * theta1) + center[0]\n",
        "y = r * np.sin(np.pi / 180 * theta1) + center[1]\n",
        "con = ConnectionPatch(xyA=(-width / 2, 0), coordsA=ax2.transData,\n",
        "                      xyB=(x, y), coordsB=ax1.transData)\n",
        "con.set_color([0, 0, 0])\n",
        "ax2.add_artist(con)\n",
        "con.set_linewidth(1)\n",
        "\n",
        "plt.show()"
      ],
      "execution_count": null,
      "outputs": [
        {
          "output_type": "display_data",
          "data": {
            "image/png": "[encoded data removed]",
            "text/plain": [
              "<Figure size 1080x1080 with 2 Axes>"
            ]
          },
          "metadata": {
            "tags": []
          }
        }
      ]
    },
    {
      "cell_type": "markdown",
      "metadata": {
        "id": "xqzhjfmbBLdu"
      },
      "source": [
        "You can clearly see that US consumed the most amount of fat from Vegetal Products which is 29% of the whole consumption. The second is Vegetable Oils"
      ]
    },
    {
      "cell_type": "code",
      "metadata": {
        "id": "OqsE8M6A-6J5"
      },
      "source": [
        "#China Data analysis and plots for fat consumption\n",
        "dfFat_china = dfFat.loc[dfFat['Country']=='China']\n",
        "dfFat_china = dfFat_china.iloc[:,1:24]"
      ],
      "execution_count": null,
      "outputs": []
    },
    {
      "cell_type": "code",
      "metadata": {
        "id": "DaZrRxDd-6J5",
        "outputId": "bf42b7a5-d3a4-4191-cecd-ecf108794523"
      },
      "source": [
        "dfFat_china.iloc[0].sort_values()"
      ],
      "execution_count": null,
      "outputs": [
        {
          "output_type": "execute_result",
          "data": {
            "text/plain": [
              "Alcoholic Beverages          0.0000\n",
              "Sugar Crops                  0.0000\n",
              "Aquatic Products, Other      0.0097\n",
              "Sugar & Sweeteners           0.0179\n",
              "Pulses                       0.0234\n",
              "Starchy Roots                0.0565\n",
              "Spices                       0.0676\n",
              "Miscellaneous                0.1517\n",
              "Fruits - Excluding Wine      0.2344\n",
              "Offals                       0.4784\n",
              "Vegetables                   0.5763\n",
              "Stimulants                   0.9362\n",
              "Fish, Seafood                0.9817\n",
              "Treenuts                     1.7979\n",
              "Oilcrops                     1.8351\n",
              "Milk - Excluding Butter      2.2156\n",
              "Eggs                         2.3066\n",
              "Cereals - Excluding Beer     2.5989\n",
              "Animal fats                  3.4468\n",
              "Vegetable Oils              10.6590\n",
              "Vegetal Products            18.9535\n",
              "Meat                        21.6062\n",
              "Animal Products             31.0465\n",
              "Name: 30, dtype: float64"
            ]
          },
          "metadata": {
            "tags": []
          },
          "execution_count": 350
        }
      ]
    },
    {
      "cell_type": "code",
      "metadata": {
        "colab": {
          "base_uri": "https://localhost:8080/",
          "height": 402
        },
        "id": "1U4DYf03-6J6",
        "outputId": "cb91691d-33f7-46d3-eb61-f66971d0c29b"
      },
      "source": [
        "#build a pie chart to see percentage of fat consumed for us\n",
        "from matplotlib.patches import ConnectionPatch\n",
        "\n",
        "plt.style.use('ggplot')\n",
        "fig = plt.figure(figsize=(15, 15))\n",
        "ax1 = fig.add_subplot(221)\n",
        "ax2 = fig.add_subplot(222)\n",
        "fig.subplots_adjust(wspace=0)\n",
        "\n",
        "fat_china = dfFat_china.iloc[0].sort_values(ascending=False)\n",
        "\n",
        "# parameters for pie chart\n",
        "in_pie = fat_china[:6] \n",
        "in_pie = in_pie.append(pd.Series(sum(fat_china[6:]), index=['others']))\n",
        "\n",
        "explode = [0, 0, 0, 0, 0, 0, 0.1]\n",
        "\n",
        "ax1.pie(in_pie, labels=in_pie.index, autopct='%1.lf%%', startangle=10, explode=explode)\n",
        "ax1.set_title('Fat Consumption Analysis for China')\n",
        "\n",
        "# parameters for bar chart\n",
        "xpos = 0\n",
        "bottom = 0\n",
        "in_bar = fat_us[6:] / sum(fat_us[6:])\n",
        "width = .2\n",
        "\n",
        "for j in range(len(in_bar)):\n",
        "    height = in_bar[j] + 0.05 ## plus 0.05 avoid too small\n",
        "    ax2.bar(xpos, height, width, bottom=bottom)\n",
        "    ypos = bottom + ax2.patches[j].get_height() / 2\n",
        "    bottom += height\n",
        "    ax2.text(xpos, ypos / 1.01, \"%d%%\" % (in_bar[j] * 100), ha='center')\n",
        "    \n",
        "# ax2.set_title('Age of approvers')\n",
        "ax2.legend(in_bar.index)\n",
        "ax2.axis('off')\n",
        "ax2.set_xlim(- 2.5 * width, 2.5 * width)\n",
        "\n",
        "# use ConnectionPatch to draw lines between the two plots\n",
        "# get the wedge data\n",
        "theta1, theta2 = ax1.patches[6].theta1, ax1.patches[6].theta2\n",
        "center, r = ax1.patches[0].center, ax1.patches[0].r\n",
        "bar_height = sum([item.get_height() for item in ax2.patches])\n",
        "\n",
        "# draw top connecting line\n",
        "x = r * np.cos(np.pi / 180 * theta2) + center[0]\n",
        "y = r * np.sin(np.pi / 180 * theta2) + center[1]\n",
        "con = ConnectionPatch(xyA=(-width / 2, bar_height), coordsA=ax2.transData,\n",
        "                      xyB=(x, y), coordsB=ax1.transData)\n",
        "con.set_color([0, 0, 0])\n",
        "con.set_linewidth(1)\n",
        "ax2.add_artist(con)\n",
        "\n",
        "# draw bottom connecting line\n",
        "x = r * np.cos(np.pi / 180 * theta1) + center[0]\n",
        "y = r * np.sin(np.pi / 180 * theta1) + center[1]\n",
        "con = ConnectionPatch(xyA=(-width / 2, 0), coordsA=ax2.transData,\n",
        "                      xyB=(x, y), coordsB=ax1.transData)\n",
        "con.set_color([0, 0, 0])\n",
        "ax2.add_artist(con)\n",
        "con.set_linewidth(1)\n",
        "\n",
        "plt.show()"
      ],
      "execution_count": null,
      "outputs": [
        {
          "output_type": "display_data",
          "data": {
            "image/png": "[encoded data removed]",
            "text/plain": [
              "<Figure size 1080x1080 with 2 Axes>"
            ]
          },
          "metadata": {
            "tags": []
          }
        }
      ]
    },
    {
      "cell_type": "markdown",
      "metadata": {
        "id": "kr1wOioLEZ4o"
      },
      "source": [
        "From the above chart, You can clearly see that China consumed the most amount of fat from Animal Products which is 31% of the whole consumption. The Second is Meat, which is 22%. "
      ]
    },
    {
      "cell_type": "markdown",
      "metadata": {
        "id": "weMYFPhH-6J6"
      },
      "source": [
        "To better compare differences, we drew a horizontal bar chart to compare the differences in fat intake from different food."
      ]
    },
    {
      "cell_type": "code",
      "metadata": {
        "scrolled": false,
        "id": "mbEIqEgP-6J6",
        "outputId": "9f459a19-dce5-441c-ba20-1e958cd334a9"
      },
      "source": [
        "labels = dfDes.Categories\n",
        "\n",
        "x = np.arange(len(labels))  # the label locations\n",
        "width = 0.35  # the width of the bars\n",
        "\n",
        "fig, ax = plt.subplots(figsize=(10, 10))\n",
        "rects1 = ax.barh(x - width/2, dfFat_us.iloc[0], width, label='us')\n",
        "rects2 = ax.barh(x + width/2, dfFat_china.iloc[0], width, label='china')\n",
        "\n",
        "# Add some text for labels, title and custom x-axis tick labels, etc.\n",
        "ax.set_xlabel('Scores')\n",
        "ax.set_title('Fat Consumption of China and US')\n",
        "ax.set_yticks(x)\n",
        "ax.set_yticklabels(labels)\n",
        "ax.invert_yaxis()\n",
        "ax.legend()\n",
        "\n",
        "fig.tight_layout()\n",
        "\n",
        "plt.show()"
      ],
      "execution_count": null,
      "outputs": [
        {
          "output_type": "display_data",
          "data": {
            "image/png": "[encoded data removed]",
            "text/plain": [
              "<Figure size 720x720 with 1 Axes>"
            ]
          },
          "metadata": {
            "tags": []
          }
        }
      ]
    },
    {
      "cell_type": "markdown",
      "metadata": {
        "id": "PwJuEKqWHsZT"
      },
      "source": [
        "After Comparing the two pie charts I made, I figured out that US has more fat consumed from Vegetal products and Vetetal oils than China. China has more fat consumeed from Meat and Animal Products than US. "
      ]
    },
    {
      "cell_type": "code",
      "metadata": {
        "id": "-AdJzX4j-6J6"
      },
      "source": [
        ""
      ],
      "execution_count": null,
      "outputs": []
    },
    {
      "cell_type": "markdown",
      "metadata": {
        "id": "7Kk1LKKL-6J6"
      },
      "source": [
        "## Data Analysis and Plots for Protein Supply Quantity Data"
      ]
    },
    {
      "cell_type": "code",
      "metadata": {
        "id": "FkNlp88_VXvR"
      },
      "source": [
        "# US data analysis and plots for protein consumption\n",
        "dfProteinQ_us= dfProteinQ.loc[dfProteinQ['Country']=='United States of America']\n",
        "dfProteinQ_us=dfus2.iloc[:,1:24]"
      ],
      "execution_count": null,
      "outputs": []
    },
    {
      "cell_type": "code",
      "metadata": {
        "colab": {
          "base_uri": "https://localhost:8080/",
          "height": 402
        },
        "id": "iGk-1pQXYCL4",
        "outputId": "e4c10ffd-e966-47f2-e7ce-94a720bfdb7b"
      },
      "source": [
        "#build a pie chart to see percentage of protein consumed for US\n",
        "plt.style.use('ggplot')\n",
        "fig = plt.figure(figsize=(15, 15))\n",
        "ax1 = fig.add_subplot(221)\n",
        "ax2 = fig.add_subplot(222)\n",
        "fig.subplots_adjust(wspace=0)\n",
        "\n",
        "protein_us = dfProteinQ_us.iloc[0].sort_values(ascending=False)\n",
        "# parameters for pie chart\n",
        "in_pie = protein_us[:6] \n",
        "in_pie = in_pie.append(pd.Series(sum(protein_us[6:]), index=['others']))\n",
        "explode = [0, 0, 0, 0, 0, 0, 0.1]\n",
        "\n",
        "ax1.pie(in_pie, labels=in_pie.index, autopct='%1.lf%%', startangle=10, explode=explode)\n",
        "\n",
        "# parameters for bar chart\n",
        "xpos = 0\n",
        "bottom = 0\n",
        "in_bar = protein_us[6:] / sum(protein_us[6:])\n",
        "width = .2\n",
        "\n",
        "for j in range(len(in_bar)):\n",
        "    height = in_bar[j] + 0.05 ## plus 0.05 avoid too small\n",
        "    ax2.bar(xpos, height, width, bottom=bottom)\n",
        "    ypos = bottom + ax2.patches[j].get_height() / 2\n",
        "    bottom += height\n",
        "    ax2.text(xpos, ypos / 1.01, \"%d%%\" % (in_bar[j] * 100), ha='center')\n",
        "# ax4.set_title('Age of approvers')\n",
        "ax2.legend(in_bar.index)\n",
        "ax2.axis('off')\n",
        "ax2.set_xlim(- 2.5 * width, 2.5 * width)\n",
        "# use ConnectionPatch to draw lines between the two plots\n",
        "# get the wedge data\n",
        "theta1, theta2 = ax1.patches[6].theta1, ax1.patches[6].theta2\n",
        "center, r = ax1.patches[0].center, ax1.patches[0].r\n",
        "bar_height = sum([item.get_height() for item in ax2.patches])\n",
        "\n",
        "# draw top connecting line\n",
        "x = r * np.cos(np.pi / 180 * theta2) + center[0]\n",
        "y = r * np.sin(np.pi / 180 * theta2) + center[1]\n",
        "con = ConnectionPatch(xyA=(-width / 2, bar_height), coordsA=ax2.transData,\n",
        "                      xyB=(x, y), coordsB=ax1.transData)\n",
        "con.set_color([0, 0, 0])\n",
        "con.set_linewidth(1)\n",
        "ax2.add_artist(con)\n",
        "\n",
        "# draw bottom connecting line\n",
        "x = r * np.cos(np.pi / 180 * theta1) + center[0]\n",
        "y = r * np.sin(np.pi / 180 * theta1) + center[1]\n",
        "con = ConnectionPatch(xyA=(-width / 2, 0), coordsA=ax2.transData,\n",
        "                      xyB=(x, y), coordsB=ax1.transData)\n",
        "con.set_color([0, 0, 0])\n",
        "ax2.add_artist(con)\n",
        "con.set_linewidth(1)\n",
        "\n",
        "plt.show()"
      ],
      "execution_count": null,
      "outputs": [
        {
          "output_type": "display_data",
          "data": {
            "image/png": "[encoded data removed]",
            "text/plain": [
              "<Figure size 1080x1080 with 2 Axes>"
            ]
          },
          "metadata": {
            "tags": []
          }
        }
      ]
    },
    {
      "cell_type": "markdown",
      "metadata": {
        "id": "rTYYOeZ1cS6Q"
      },
      "source": [
        "From this pie chart, I observe that US cnsumed the most amount of Protein from Animal Products which is 32% of the whole consumption of protein. US consumed the same amount of protein from Meat and Vegetal Products. \n"
      ]
    },
    {
      "cell_type": "code",
      "metadata": {
        "id": "iKn7gIHY-6J7"
      },
      "source": [
        "# China data analysis and plots for protein consumption\n",
        "dfProteinQ_china= dfProteinQ.loc[dfProteinQ['Country']=='China']\n",
        "dfProteinQ_china=dfProteinQ_china.iloc[:,1:24]"
      ],
      "execution_count": null,
      "outputs": []
    },
    {
      "cell_type": "code",
      "metadata": {
        "colab": {
          "base_uri": "https://localhost:8080/",
          "height": 402
        },
        "id": "YqXT4muO-6J7",
        "outputId": "e4c10ffd-e966-47f2-e7ce-94a720bfdb7b"
      },
      "source": [
        "#build a pie chart to see percentage of protein consumed for China\n",
        "plt.style.use('ggplot')\n",
        "fig = plt.figure(figsize=(15, 15))\n",
        "ax1 = fig.add_subplot(221)\n",
        "ax2 = fig.add_subplot(222)\n",
        "fig.subplots_adjust(wspace=0)\n",
        "\n",
        "protein_china = dfProteinQ_china.iloc[0].sort_values(ascending=False)\n",
        "# parameters for pie chart\n",
        "in_pie = protein_us[:6] \n",
        "in_pie = in_pie.append(pd.Series(sum(protein_us[6:]), index=['others']))\n",
        "explode = [0, 0, 0, 0, 0, 0, 0.1]\n",
        "\n",
        "ax1.pie(in_pie, labels=in_pie.index, autopct='%1.lf%%', startangle=10, explode=explode)\n",
        "# parameters for bar chart\n",
        "xpos = 0\n",
        "bottom = 0\n",
        "in_bar = protein_us[6:] / sum(protein_us[6:])\n",
        "width = .2\n",
        "\n",
        "for j in range(len(in_bar)):\n",
        "    height = in_bar[j] + 0.05 ## plus 0.05 avoid too small\n",
        "    ax2.bar(xpos, height, width, bottom=bottom)\n",
        "    ypos = bottom + ax2.patches[j].get_height() / 2\n",
        "    bottom += height\n",
        "    ax2.text(xpos, ypos / 1.01, \"%d%%\" % (in_bar[j] * 100), ha='center')\n",
        "# ax4.set_title('Age of approvers')\n",
        "ax2.legend(in_bar.index)\n",
        "ax2.axis('off')\n",
        "ax2.set_xlim(- 2.5 * width, 2.5 * width)\n",
        "# use ConnectionPatch to draw lines between the two plots\n",
        "# get the wedge data\n",
        "theta1, theta2 = ax1.patches[6].theta1, ax1.patches[6].theta2\n",
        "center, r = ax1.patches[0].center, ax1.patches[0].r\n",
        "bar_height = sum([item.get_height() for item in ax2.patches])\n",
        "\n",
        "# draw top connecting line\n",
        "x = r * np.cos(np.pi / 180 * theta2) + center[0]\n",
        "y = r * np.sin(np.pi / 180 * theta2) + center[1]\n",
        "con = ConnectionPatch(xyA=(-width / 2, bar_height), coordsA=ax2.transData,\n",
        "                      xyB=(x, y), coordsB=ax1.transData)\n",
        "con.set_color([0, 0, 0])\n",
        "con.set_linewidth(1)\n",
        "ax2.add_artist(con)\n",
        "\n",
        "# draw bottom connecting line\n",
        "x = r * np.cos(np.pi / 180 * theta1) + center[0]\n",
        "y = r * np.sin(np.pi / 180 * theta1) + center[1]\n",
        "con = ConnectionPatch(xyA=(-width / 2, 0), coordsA=ax2.transData,\n",
        "                      xyB=(x, y), coordsB=ax1.transData)\n",
        "con.set_color([0, 0, 0])\n",
        "ax2.add_artist(con)\n",
        "con.set_linewidth(1)\n",
        "\n",
        "plt.show()"
      ],
      "execution_count": null,
      "outputs": [
        {
          "output_type": "display_data",
          "data": {
            "image/png": "[encoded data removed]",
            "text/plain": [
              "<Figure size 1080x1080 with 2 Axes>"
            ]
          },
          "metadata": {
            "tags": []
          }
        }
      ]
    },
    {
      "cell_type": "markdown",
      "metadata": {
        "id": "-md6NcewjXV4"
      },
      "source": [
        "From above chart for China, I obserbed similar patterns with US cosumption for Protein. China Consumed the most amount of protein from animal products and cosumed almost the same amount of protein from Meat and Vegetal Products. "
      ]
    },
    {
      "cell_type": "code",
      "metadata": {
        "id": "i6Lqzujv-6J7",
        "outputId": "253a1a25-4c24-4fa7-d7c5-3617c5510147"
      },
      "source": [
        "print(dfProteinQ_us.iloc[0])\n",
        "# print(dfFat_china.iloc[0])"
      ],
      "execution_count": null,
      "outputs": [
        {
          "output_type": "stream",
          "text": [
            "Alcoholic Beverages          0.2946\n",
            "Animal Products             32.4775\n",
            "Animal fats                  0.0264\n",
            "Aquatic Products, Other      0.0044\n",
            "Cereals - Excluding Beer    10.4594\n",
            "Eggs                         2.0048\n",
            "Fish, Seafood                2.3873\n",
            "Fruits - Excluding Wine      0.5935\n",
            "Meat                        18.0875\n",
            "Milk - Excluding Butter      9.8791\n",
            "Offals                       0.0879\n",
            "Oilcrops                     1.2706\n",
            "Pulses                       1.0332\n",
            "Spices                       0.1231\n",
            "Starchy Roots                1.0640\n",
            "Stimulants                   0.6331\n",
            "Sugar Crops                  0.0000\n",
            "Sugar & Sweeteners           0.0747\n",
            "Treenuts                     0.4924\n",
            "Vegetal Products            17.5247\n",
            "Vegetable Oils               0.0835\n",
            "Vegetables                   1.3981\n",
            "Miscellaneous                0.0000\n",
            "Name: 161, dtype: float64\n"
          ],
          "name": "stdout"
        }
      ]
    },
    {
      "cell_type": "code",
      "metadata": {
        "scrolled": false,
        "id": "PicslSBh-6J7",
        "outputId": "ba8ebf65-e579-481f-983d-193f67d317d7"
      },
      "source": [
        "labels = dfProteinQ_china.columns\n",
        "\n",
        "x = np.arange(len(labels))  # the label locations\n",
        "width = 0.35  # the width of the bars\n",
        "\n",
        "fig, ax = plt.subplots(figsize=(7, 14))\n",
        "rects1 = ax.barh(x - width/2, dfProteinQ_us.iloc[0], width, label='US')\n",
        "rects2 = ax.barh(x + width/2, dfProteinQ_china.iloc[0], width, label='China')\n",
        "\n",
        "# Add some text for labels, title and custom x-axis tick labels, etc.\n",
        "ax.set_xlabel('Scores')\n",
        "ax.set_title('Fat Consumption of China and US')\n",
        "ax.set_yticks(x)\n",
        "ax.set_yticklabels(labels)\n",
        "ax.invert_yaxis()\n",
        "ax.legend()\n",
        "\n",
        "fig.tight_layout()\n",
        "\n",
        "plt.show()"
      ],
      "execution_count": null,
      "outputs": [
        {
          "output_type": "display_data",
          "data": {
            "image/png": "[encoded data removed]",
            "text/plain": [
              "<Figure size 504x1008 with 1 Axes>"
            ]
          },
          "metadata": {
            "tags": []
          }
        }
      ]
    },
    {
      "cell_type": "markdown",
      "metadata": {
        "id": "MQ0efz-t-6J8"
      },
      "source": [
        "# Further Explore the Relationship of Diet and COVID-19 of Other Countries"
      ]
    },
    {
      "cell_type": "markdown",
      "metadata": {
        "id": "gKUY1Eqq-6J8"
      },
      "source": [
        "## Split Up the Data"
      ]
    },
    {
      "cell_type": "markdown",
      "metadata": {
        "id": "YGazEF58-6J8"
      },
      "source": [
        "From the previous analysis, You can see that some countries have missing data, so I do not consider the data of these countries. Therefore, I first use pandas to delete countries that have no missing data."
      ]
    },
    {
      "cell_type": "code",
      "metadata": {
        "id": "LxGFmQeT-6J8"
      },
      "source": [
        "dfFat = dfFat[dfFat.notnull().all(axis=1)]\n",
        "dfProteinQ = dfProteinQ[dfProteinQ.notnull().all(axis=1)]"
      ],
      "execution_count": null,
      "outputs": []
    },
    {
      "cell_type": "code",
      "metadata": {
        "id": "84jS4wWe-6J8",
        "outputId": "9bda2235-bded-4814-a941-f8001139826c"
      },
      "source": [
        "print(dfFat.shape)\n",
        "print(dfProteinQ.shape)\n",
        "print(covid_19_cases.shape)"
      ],
      "execution_count": null,
      "outputs": [
        {
          "output_type": "stream",
          "text": [
            "(154, 32)\n",
            "(154, 32)\n",
            "(2, 4)\n"
          ],
          "name": "stdout"
        }
      ]
    },
    {
      "cell_type": "markdown",
      "metadata": {
        "id": "djq_2oqo-6J8"
      },
      "source": [
        "Next, I divide the countries into two groups according to the dead rate——countries with low death rate and countries with high death rate. And then I devide the `Food Supply Quantity Data`  into two groups and calculate the mean value according to the two groups of countries. So does the `Protein Supply Quantity Data`."
      ]
    },
    {
      "cell_type": "code",
      "metadata": {
        "id": "QpTRGIuA-6J9",
        "outputId": "d1be2430-5561-4b8e-f234-353e5cbafd36"
      },
      "source": [
        "dfFat = dfFat.sort_values(by='Confirmed')\n",
        "dfFat"
      ],
      "execution_count": null,
      "outputs": [
        {
          "output_type": "execute_result",
          "data": {
            "text/html": [
              "<div>\n",
              "<style scoped>\n",
              "    .dataframe tbody tr th:only-of-type {\n",
              "        vertical-align: middle;\n",
              "    }\n",
              "\n",
              "    .dataframe tbody tr th {\n",
              "        vertical-align: top;\n",
              "    }\n",
              "\n",
              "    .dataframe thead th {\n",
              "        text-align: right;\n",
              "    }\n",
              "</style>\n",
              "<table border=\"1\" class=\"dataframe\">\n",
              "  <thead>\n",
              "    <tr style=\"text-align: right;\">\n",
              "      <th></th>\n",
              "      <th>Country</th>\n",
              "      <th>Alcoholic Beverages</th>\n",
              "      <th>Animal Products</th>\n",
              "      <th>Animal fats</th>\n",
              "      <th>Aquatic Products, Other</th>\n",
              "      <th>Cereals - Excluding Beer</th>\n",
              "      <th>Eggs</th>\n",
              "      <th>Fish, Seafood</th>\n",
              "      <th>Fruits - Excluding Wine</th>\n",
              "      <th>Meat</th>\n",
              "      <th>...</th>\n",
              "      <th>Vegetable Oils</th>\n",
              "      <th>Vegetables</th>\n",
              "      <th>Obesity</th>\n",
              "      <th>Undernourished</th>\n",
              "      <th>Confirmed</th>\n",
              "      <th>Deaths</th>\n",
              "      <th>Recovered</th>\n",
              "      <th>Active</th>\n",
              "      <th>Population</th>\n",
              "      <th>Unit (all except Population)</th>\n",
              "    </tr>\n",
              "  </thead>\n",
              "  <tbody>\n",
              "    <tr>\n",
              "      <th>164</th>\n",
              "      <td>Vanuatu</td>\n",
              "      <td>0.0</td>\n",
              "      <td>14.9179</td>\n",
              "      <td>1.9531</td>\n",
              "      <td>0.0000</td>\n",
              "      <td>4.1249</td>\n",
              "      <td>0.3509</td>\n",
              "      <td>1.4343</td>\n",
              "      <td>0.3052</td>\n",
              "      <td>9.9334</td>\n",
              "      <td>...</td>\n",
              "      <td>6.4849</td>\n",
              "      <td>0.1424</td>\n",
              "      <td>23.5</td>\n",
              "      <td>7.2</td>\n",
              "      <td>0.000312</td>\n",
              "      <td>0.000000</td>\n",
              "      <td>0.000312</td>\n",
              "      <td>0.000000</td>\n",
              "      <td>321000.0</td>\n",
              "      <td>%</td>\n",
              "    </tr>\n",
              "    <tr>\n",
              "      <th>85</th>\n",
              "      <td>Lao People's Democratic Republic</td>\n",
              "      <td>0.0</td>\n",
              "      <td>21.6306</td>\n",
              "      <td>3.9594</td>\n",
              "      <td>0.0000</td>\n",
              "      <td>9.0989</td>\n",
              "      <td>0.4974</td>\n",
              "      <td>1.6871</td>\n",
              "      <td>0.8777</td>\n",
              "      <td>15.0283</td>\n",
              "      <td>...</td>\n",
              "      <td>9.7620</td>\n",
              "      <td>1.1118</td>\n",
              "      <td>4.5</td>\n",
              "      <td>16.5</td>\n",
              "      <td>0.000621</td>\n",
              "      <td>0.000000</td>\n",
              "      <td>0.000566</td>\n",
              "      <td>0.000055</td>\n",
              "      <td>7242000.0</td>\n",
              "      <td>%</td>\n",
              "    </tr>\n",
              "    <tr>\n",
              "      <th>160</th>\n",
              "      <td>United Republic of Tanzania</td>\n",
              "      <td>0.0</td>\n",
              "      <td>7.5907</td>\n",
              "      <td>1.5442</td>\n",
              "      <td>0.0000</td>\n",
              "      <td>4.2140</td>\n",
              "      <td>0.0744</td>\n",
              "      <td>0.4558</td>\n",
              "      <td>0.2698</td>\n",
              "      <td>3.0140</td>\n",
              "      <td>...</td>\n",
              "      <td>27.0605</td>\n",
              "      <td>0.2419</td>\n",
              "      <td>7.1</td>\n",
              "      <td>30.7</td>\n",
              "      <td>0.000852</td>\n",
              "      <td>0.000035</td>\n",
              "      <td>0.000306</td>\n",
              "      <td>0.000511</td>\n",
              "      <td>59734000.0</td>\n",
              "      <td>%</td>\n",
              "    </tr>\n",
              "    <tr>\n",
              "      <th>131</th>\n",
              "      <td>Samoa</td>\n",
              "      <td>0.0</td>\n",
              "      <td>21.6806</td>\n",
              "      <td>4.7780</td>\n",
              "      <td>0.0036</td>\n",
              "      <td>1.5771</td>\n",
              "      <td>0.2227</td>\n",
              "      <td>1.8968</td>\n",
              "      <td>0.6287</td>\n",
              "      <td>13.2418</td>\n",
              "      <td>...</td>\n",
              "      <td>8.3345</td>\n",
              "      <td>0.0431</td>\n",
              "      <td>45.5</td>\n",
              "      <td>2.7</td>\n",
              "      <td>0.001000</td>\n",
              "      <td>0.000000</td>\n",
              "      <td>0.001000</td>\n",
              "      <td>0.000000</td>\n",
              "      <td>200000.0</td>\n",
              "      <td>%</td>\n",
              "    </tr>\n",
              "    <tr>\n",
              "      <th>166</th>\n",
              "      <td>Vietnam</td>\n",
              "      <td>0.0</td>\n",
              "      <td>33.2484</td>\n",
              "      <td>3.8238</td>\n",
              "      <td>0.0000</td>\n",
              "      <td>3.7155</td>\n",
              "      <td>0.7839</td>\n",
              "      <td>1.1217</td>\n",
              "      <td>0.4079</td>\n",
              "      <td>26.4292</td>\n",
              "      <td>...</td>\n",
              "      <td>5.6211</td>\n",
              "      <td>0.6373</td>\n",
              "      <td>2.1</td>\n",
              "      <td>9.3</td>\n",
              "      <td>0.002063</td>\n",
              "      <td>0.000036</td>\n",
              "      <td>0.001526</td>\n",
              "      <td>0.000501</td>\n",
              "      <td>96209000.0</td>\n",
              "      <td>%</td>\n",
              "    </tr>\n",
              "    <tr>\n",
              "      <th>...</th>\n",
              "      <td>...</td>\n",
              "      <td>...</td>\n",
              "      <td>...</td>\n",
              "      <td>...</td>\n",
              "      <td>...</td>\n",
              "      <td>...</td>\n",
              "      <td>...</td>\n",
              "      <td>...</td>\n",
              "      <td>...</td>\n",
              "      <td>...</td>\n",
              "      <td>...</td>\n",
              "      <td>...</td>\n",
              "      <td>...</td>\n",
              "      <td>...</td>\n",
              "      <td>...</td>\n",
              "      <td>...</td>\n",
              "      <td>...</td>\n",
              "      <td>...</td>\n",
              "      <td>...</td>\n",
              "      <td>...</td>\n",
              "      <td>...</td>\n",
              "    </tr>\n",
              "    <tr>\n",
              "      <th>91</th>\n",
              "      <td>Luxembourg</td>\n",
              "      <td>0.0</td>\n",
              "      <td>32.4517</td>\n",
              "      <td>6.4786</td>\n",
              "      <td>0.0000</td>\n",
              "      <td>1.8437</td>\n",
              "      <td>1.6645</td>\n",
              "      <td>0.6987</td>\n",
              "      <td>0.3256</td>\n",
              "      <td>16.3118</td>\n",
              "      <td>...</td>\n",
              "      <td>10.6855</td>\n",
              "      <td>0.2634</td>\n",
              "      <td>24.2</td>\n",
              "      <td>&lt;2.5</td>\n",
              "      <td>8.150633</td>\n",
              "      <td>0.093354</td>\n",
              "      <td>7.661551</td>\n",
              "      <td>0.395728</td>\n",
              "      <td>632000.0</td>\n",
              "      <td>%</td>\n",
              "    </tr>\n",
              "    <tr>\n",
              "      <th>161</th>\n",
              "      <td>United States of America</td>\n",
              "      <td>0.0</td>\n",
              "      <td>21.2045</td>\n",
              "      <td>3.3013</td>\n",
              "      <td>0.0000</td>\n",
              "      <td>1.2829</td>\n",
              "      <td>1.2500</td>\n",
              "      <td>0.3887</td>\n",
              "      <td>0.4426</td>\n",
              "      <td>9.4166</td>\n",
              "      <td>...</td>\n",
              "      <td>23.6117</td>\n",
              "      <td>0.1944</td>\n",
              "      <td>37.3</td>\n",
              "      <td>&lt;2.5</td>\n",
              "      <td>8.159922</td>\n",
              "      <td>0.140103</td>\n",
              "      <td>0.000000</td>\n",
              "      <td>8.019819</td>\n",
              "      <td>329878000.0</td>\n",
              "      <td>%</td>\n",
              "    </tr>\n",
              "    <tr>\n",
              "      <th>138</th>\n",
              "      <td>Slovenia</td>\n",
              "      <td>0.0</td>\n",
              "      <td>26.6163</td>\n",
              "      <td>10.0008</td>\n",
              "      <td>0.0000</td>\n",
              "      <td>3.5771</td>\n",
              "      <td>1.1287</td>\n",
              "      <td>0.3693</td>\n",
              "      <td>0.4606</td>\n",
              "      <td>8.5899</td>\n",
              "      <td>...</td>\n",
              "      <td>13.8684</td>\n",
              "      <td>0.2697</td>\n",
              "      <td>22.5</td>\n",
              "      <td>&lt;2.5</td>\n",
              "      <td>8.235901</td>\n",
              "      <td>0.171755</td>\n",
              "      <td>7.312934</td>\n",
              "      <td>0.751213</td>\n",
              "      <td>2103000.0</td>\n",
              "      <td>%</td>\n",
              "    </tr>\n",
              "    <tr>\n",
              "      <th>38</th>\n",
              "      <td>Czechia</td>\n",
              "      <td>0.0</td>\n",
              "      <td>25.1685</td>\n",
              "      <td>9.7011</td>\n",
              "      <td>0.0000</td>\n",
              "      <td>1.1998</td>\n",
              "      <td>0.8222</td>\n",
              "      <td>0.3000</td>\n",
              "      <td>0.1870</td>\n",
              "      <td>8.6212</td>\n",
              "      <td>...</td>\n",
              "      <td>21.2267</td>\n",
              "      <td>0.1729</td>\n",
              "      <td>28.5</td>\n",
              "      <td>&lt;2.5</td>\n",
              "      <td>9.612841</td>\n",
              "      <td>0.159845</td>\n",
              "      <td>8.555328</td>\n",
              "      <td>0.897667</td>\n",
              "      <td>10716000.0</td>\n",
              "      <td>%</td>\n",
              "    </tr>\n",
              "    <tr>\n",
              "      <th>102</th>\n",
              "      <td>Montenegro</td>\n",
              "      <td>0.0</td>\n",
              "      <td>32.7855</td>\n",
              "      <td>3.8887</td>\n",
              "      <td>0.0000</td>\n",
              "      <td>3.7312</td>\n",
              "      <td>1.1566</td>\n",
              "      <td>0.3473</td>\n",
              "      <td>0.3688</td>\n",
              "      <td>14.7778</td>\n",
              "      <td>...</td>\n",
              "      <td>8.6332</td>\n",
              "      <td>0.2578</td>\n",
              "      <td>24.9</td>\n",
              "      <td>&lt;2.5</td>\n",
              "      <td>10.408199</td>\n",
              "      <td>0.134405</td>\n",
              "      <td>9.039871</td>\n",
              "      <td>1.233923</td>\n",
              "      <td>622000.0</td>\n",
              "      <td>%</td>\n",
              "    </tr>\n",
              "  </tbody>\n",
              "</table>\n",
              "<p>154 rows × 32 columns</p>\n",
              "</div>"
            ],
            "text/plain": [
              "                              Country  Alcoholic Beverages  Animal Products  \\\n",
              "164                           Vanuatu                  0.0          14.9179   \n",
              "85   Lao People's Democratic Republic                  0.0          21.6306   \n",
              "160       United Republic of Tanzania                  0.0           7.5907   \n",
              "131                             Samoa                  0.0          21.6806   \n",
              "166                           Vietnam                  0.0          33.2484   \n",
              "..                                ...                  ...              ...   \n",
              "91                         Luxembourg                  0.0          32.4517   \n",
              "161          United States of America                  0.0          21.2045   \n",
              "138                          Slovenia                  0.0          26.6163   \n",
              "38                            Czechia                  0.0          25.1685   \n",
              "102                        Montenegro                  0.0          32.7855   \n",
              "\n",
              "     Animal fats  Aquatic Products, Other  Cereals - Excluding Beer    Eggs  \\\n",
              "164       1.9531                   0.0000                    4.1249  0.3509   \n",
              "85        3.9594                   0.0000                    9.0989  0.4974   \n",
              "160       1.5442                   0.0000                    4.2140  0.0744   \n",
              "131       4.7780                   0.0036                    1.5771  0.2227   \n",
              "166       3.8238                   0.0000                    3.7155  0.7839   \n",
              "..           ...                      ...                       ...     ...   \n",
              "91        6.4786                   0.0000                    1.8437  1.6645   \n",
              "161       3.3013                   0.0000                    1.2829  1.2500   \n",
              "138      10.0008                   0.0000                    3.5771  1.1287   \n",
              "38        9.7011                   0.0000                    1.1998  0.8222   \n",
              "102       3.8887                   0.0000                    3.7312  1.1566   \n",
              "\n",
              "     Fish, Seafood  Fruits - Excluding Wine     Meat  ...  Vegetable Oils  \\\n",
              "164         1.4343                   0.3052   9.9334  ...          6.4849   \n",
              "85          1.6871                   0.8777  15.0283  ...          9.7620   \n",
              "160         0.4558                   0.2698   3.0140  ...         27.0605   \n",
              "131         1.8968                   0.6287  13.2418  ...          8.3345   \n",
              "166         1.1217                   0.4079  26.4292  ...          5.6211   \n",
              "..             ...                      ...      ...  ...             ...   \n",
              "91          0.6987                   0.3256  16.3118  ...         10.6855   \n",
              "161         0.3887                   0.4426   9.4166  ...         23.6117   \n",
              "138         0.3693                   0.4606   8.5899  ...         13.8684   \n",
              "38          0.3000                   0.1870   8.6212  ...         21.2267   \n",
              "102         0.3473                   0.3688  14.7778  ...          8.6332   \n",
              "\n",
              "     Vegetables  Obesity  Undernourished  Confirmed    Deaths  Recovered  \\\n",
              "164      0.1424     23.5             7.2   0.000312  0.000000   0.000312   \n",
              "85       1.1118      4.5            16.5   0.000621  0.000000   0.000566   \n",
              "160      0.2419      7.1            30.7   0.000852  0.000035   0.000306   \n",
              "131      0.0431     45.5             2.7   0.001000  0.000000   0.001000   \n",
              "166      0.6373      2.1             9.3   0.002063  0.000036   0.001526   \n",
              "..          ...      ...             ...        ...       ...        ...   \n",
              "91       0.2634     24.2            <2.5   8.150633  0.093354   7.661551   \n",
              "161      0.1944     37.3            <2.5   8.159922  0.140103   0.000000   \n",
              "138      0.2697     22.5            <2.5   8.235901  0.171755   7.312934   \n",
              "38       0.1729     28.5            <2.5   9.612841  0.159845   8.555328   \n",
              "102      0.2578     24.9            <2.5  10.408199  0.134405   9.039871   \n",
              "\n",
              "       Active   Population  Unit (all except Population)  \n",
              "164  0.000000     321000.0                             %  \n",
              "85   0.000055    7242000.0                             %  \n",
              "160  0.000511   59734000.0                             %  \n",
              "131  0.000000     200000.0                             %  \n",
              "166  0.000501   96209000.0                             %  \n",
              "..        ...          ...                           ...  \n",
              "91   0.395728     632000.0                             %  \n",
              "161  8.019819  329878000.0                             %  \n",
              "138  0.751213    2103000.0                             %  \n",
              "38   0.897667   10716000.0                             %  \n",
              "102  1.233923     622000.0                             %  \n",
              "\n",
              "[154 rows x 32 columns]"
            ]
          },
          "metadata": {
            "tags": []
          },
          "execution_count": 462
        }
      ]
    },
    {
      "cell_type": "code",
      "metadata": {
        "id": "fMkZbkio-6J9",
        "outputId": "66662814-fc0a-453b-a65e-cf790f89bff6"
      },
      "source": [
        "dfProteinQ = dfProteinQ.sort_values(by='Confirmed')\n",
        "dfProteinQ"
      ],
      "execution_count": null,
      "outputs": [
        {
          "output_type": "execute_result",
          "data": {
            "text/html": [
              "<div>\n",
              "<style scoped>\n",
              "    .dataframe tbody tr th:only-of-type {\n",
              "        vertical-align: middle;\n",
              "    }\n",
              "\n",
              "    .dataframe tbody tr th {\n",
              "        vertical-align: top;\n",
              "    }\n",
              "\n",
              "    .dataframe thead th {\n",
              "        text-align: right;\n",
              "    }\n",
              "</style>\n",
              "<table border=\"1\" class=\"dataframe\">\n",
              "  <thead>\n",
              "    <tr style=\"text-align: right;\">\n",
              "      <th></th>\n",
              "      <th>Country</th>\n",
              "      <th>Alcoholic Beverages</th>\n",
              "      <th>Animal Products</th>\n",
              "      <th>Animal fats</th>\n",
              "      <th>Aquatic Products, Other</th>\n",
              "      <th>Cereals - Excluding Beer</th>\n",
              "      <th>Eggs</th>\n",
              "      <th>Fish, Seafood</th>\n",
              "      <th>Fruits - Excluding Wine</th>\n",
              "      <th>Meat</th>\n",
              "      <th>...</th>\n",
              "      <th>Vegetables</th>\n",
              "      <th>Miscellaneous</th>\n",
              "      <th>Obesity</th>\n",
              "      <th>Undernourished</th>\n",
              "      <th>Confirmed</th>\n",
              "      <th>Deaths</th>\n",
              "      <th>Recovered</th>\n",
              "      <th>Active</th>\n",
              "      <th>Population</th>\n",
              "      <th>Unit (all except Population)</th>\n",
              "    </tr>\n",
              "  </thead>\n",
              "  <tbody>\n",
              "    <tr>\n",
              "      <th>164</th>\n",
              "      <td>Vanuatu</td>\n",
              "      <td>0.0078</td>\n",
              "      <td>19.8713</td>\n",
              "      <td>0.0863</td>\n",
              "      <td>0.0000</td>\n",
              "      <td>14.6387</td>\n",
              "      <td>0.6119</td>\n",
              "      <td>6.8016</td>\n",
              "      <td>1.1532</td>\n",
              "      <td>9.8533</td>\n",
              "      <td>...</td>\n",
              "      <td>1.5847</td>\n",
              "      <td>0.1020</td>\n",
              "      <td>23.5</td>\n",
              "      <td>7.2</td>\n",
              "      <td>0.000312</td>\n",
              "      <td>0.000000</td>\n",
              "      <td>0.000312</td>\n",
              "      <td>0.000000</td>\n",
              "      <td>321000.0</td>\n",
              "      <td>%</td>\n",
              "    </tr>\n",
              "    <tr>\n",
              "      <th>85</th>\n",
              "      <td>Lao People's Democratic Republic</td>\n",
              "      <td>0.0541</td>\n",
              "      <td>12.0786</td>\n",
              "      <td>0.1082</td>\n",
              "      <td>0.0000</td>\n",
              "      <td>25.5153</td>\n",
              "      <td>0.3365</td>\n",
              "      <td>4.5310</td>\n",
              "      <td>1.9710</td>\n",
              "      <td>5.9912</td>\n",
              "      <td>...</td>\n",
              "      <td>4.4408</td>\n",
              "      <td>0.1622</td>\n",
              "      <td>4.5</td>\n",
              "      <td>16.5</td>\n",
              "      <td>0.000621</td>\n",
              "      <td>0.000000</td>\n",
              "      <td>0.000566</td>\n",
              "      <td>0.000055</td>\n",
              "      <td>7242000.0</td>\n",
              "      <td>%</td>\n",
              "    </tr>\n",
              "    <tr>\n",
              "      <th>160</th>\n",
              "      <td>United Republic of Tanzania</td>\n",
              "      <td>0.5436</td>\n",
              "      <td>7.8113</td>\n",
              "      <td>0.0084</td>\n",
              "      <td>0.0000</td>\n",
              "      <td>19.2440</td>\n",
              "      <td>0.0836</td>\n",
              "      <td>1.8567</td>\n",
              "      <td>1.4636</td>\n",
              "      <td>2.9857</td>\n",
              "      <td>...</td>\n",
              "      <td>1.3883</td>\n",
              "      <td>0.0167</td>\n",
              "      <td>7.1</td>\n",
              "      <td>30.7</td>\n",
              "      <td>0.000852</td>\n",
              "      <td>0.000035</td>\n",
              "      <td>0.000306</td>\n",
              "      <td>0.000511</td>\n",
              "      <td>59734000.0</td>\n",
              "      <td>%</td>\n",
              "    </tr>\n",
              "    <tr>\n",
              "      <th>131</th>\n",
              "      <td>Samoa</td>\n",
              "      <td>0.1866</td>\n",
              "      <td>30.9096</td>\n",
              "      <td>0.1341</td>\n",
              "      <td>0.1341</td>\n",
              "      <td>8.4665</td>\n",
              "      <td>0.4023</td>\n",
              "      <td>7.3761</td>\n",
              "      <td>1.6968</td>\n",
              "      <td>19.3878</td>\n",
              "      <td>...</td>\n",
              "      <td>0.5364</td>\n",
              "      <td>0.3032</td>\n",
              "      <td>45.5</td>\n",
              "      <td>2.7</td>\n",
              "      <td>0.001000</td>\n",
              "      <td>0.000000</td>\n",
              "      <td>0.001000</td>\n",
              "      <td>0.000000</td>\n",
              "      <td>200000.0</td>\n",
              "      <td>%</td>\n",
              "    </tr>\n",
              "    <tr>\n",
              "      <th>166</th>\n",
              "      <td>Vietnam</td>\n",
              "      <td>0.1555</td>\n",
              "      <td>20.4466</td>\n",
              "      <td>0.1555</td>\n",
              "      <td>0.0056</td>\n",
              "      <td>18.5247</td>\n",
              "      <td>0.7665</td>\n",
              "      <td>5.7435</td>\n",
              "      <td>0.7165</td>\n",
              "      <td>11.0426</td>\n",
              "      <td>...</td>\n",
              "      <td>3.7216</td>\n",
              "      <td>0.0389</td>\n",
              "      <td>2.1</td>\n",
              "      <td>9.3</td>\n",
              "      <td>0.002063</td>\n",
              "      <td>0.000036</td>\n",
              "      <td>0.001526</td>\n",
              "      <td>0.000501</td>\n",
              "      <td>96209000.0</td>\n",
              "      <td>%</td>\n",
              "    </tr>\n",
              "    <tr>\n",
              "      <th>...</th>\n",
              "      <td>...</td>\n",
              "      <td>...</td>\n",
              "      <td>...</td>\n",
              "      <td>...</td>\n",
              "      <td>...</td>\n",
              "      <td>...</td>\n",
              "      <td>...</td>\n",
              "      <td>...</td>\n",
              "      <td>...</td>\n",
              "      <td>...</td>\n",
              "      <td>...</td>\n",
              "      <td>...</td>\n",
              "      <td>...</td>\n",
              "      <td>...</td>\n",
              "      <td>...</td>\n",
              "      <td>...</td>\n",
              "      <td>...</td>\n",
              "      <td>...</td>\n",
              "      <td>...</td>\n",
              "      <td>...</td>\n",
              "      <td>...</td>\n",
              "    </tr>\n",
              "    <tr>\n",
              "      <th>91</th>\n",
              "      <td>Luxembourg</td>\n",
              "      <td>0.5940</td>\n",
              "      <td>31.7713</td>\n",
              "      <td>0.2452</td>\n",
              "      <td>0.0047</td>\n",
              "      <td>10.4804</td>\n",
              "      <td>2.3148</td>\n",
              "      <td>3.9602</td>\n",
              "      <td>0.7732</td>\n",
              "      <td>14.1577</td>\n",
              "      <td>...</td>\n",
              "      <td>1.8717</td>\n",
              "      <td>0.3300</td>\n",
              "      <td>24.2</td>\n",
              "      <td>&lt;2.5</td>\n",
              "      <td>8.150633</td>\n",
              "      <td>0.093354</td>\n",
              "      <td>7.661551</td>\n",
              "      <td>0.395728</td>\n",
              "      <td>632000.0</td>\n",
              "      <td>%</td>\n",
              "    </tr>\n",
              "    <tr>\n",
              "      <th>161</th>\n",
              "      <td>United States of America</td>\n",
              "      <td>0.2946</td>\n",
              "      <td>32.4775</td>\n",
              "      <td>0.0264</td>\n",
              "      <td>0.0044</td>\n",
              "      <td>10.4594</td>\n",
              "      <td>2.0048</td>\n",
              "      <td>2.3873</td>\n",
              "      <td>0.5935</td>\n",
              "      <td>18.0875</td>\n",
              "      <td>...</td>\n",
              "      <td>1.3981</td>\n",
              "      <td>0.0000</td>\n",
              "      <td>37.3</td>\n",
              "      <td>&lt;2.5</td>\n",
              "      <td>8.159922</td>\n",
              "      <td>0.140103</td>\n",
              "      <td>0.000000</td>\n",
              "      <td>8.019819</td>\n",
              "      <td>329878000.0</td>\n",
              "      <td>%</td>\n",
              "    </tr>\n",
              "    <tr>\n",
              "      <th>138</th>\n",
              "      <td>Slovenia</td>\n",
              "      <td>0.5488</td>\n",
              "      <td>27.4912</td>\n",
              "      <td>0.6606</td>\n",
              "      <td>0.0000</td>\n",
              "      <td>15.5089</td>\n",
              "      <td>1.5092</td>\n",
              "      <td>1.6515</td>\n",
              "      <td>0.7978</td>\n",
              "      <td>12.7954</td>\n",
              "      <td>...</td>\n",
              "      <td>1.6769</td>\n",
              "      <td>0.1880</td>\n",
              "      <td>22.5</td>\n",
              "      <td>&lt;2.5</td>\n",
              "      <td>8.235901</td>\n",
              "      <td>0.171755</td>\n",
              "      <td>7.312934</td>\n",
              "      <td>0.751213</td>\n",
              "      <td>2103000.0</td>\n",
              "      <td>%</td>\n",
              "    </tr>\n",
              "    <tr>\n",
              "      <th>38</th>\n",
              "      <td>Czechia</td>\n",
              "      <td>1.1737</td>\n",
              "      <td>30.7412</td>\n",
              "      <td>0.3469</td>\n",
              "      <td>0.0000</td>\n",
              "      <td>12.3208</td>\n",
              "      <td>1.4801</td>\n",
              "      <td>1.5611</td>\n",
              "      <td>0.5608</td>\n",
              "      <td>14.7375</td>\n",
              "      <td>...</td>\n",
              "      <td>1.4801</td>\n",
              "      <td>0.1561</td>\n",
              "      <td>28.5</td>\n",
              "      <td>&lt;2.5</td>\n",
              "      <td>9.612841</td>\n",
              "      <td>0.159845</td>\n",
              "      <td>8.555328</td>\n",
              "      <td>0.897667</td>\n",
              "      <td>10716000.0</td>\n",
              "      <td>%</td>\n",
              "    </tr>\n",
              "    <tr>\n",
              "      <th>102</th>\n",
              "      <td>Montenegro</td>\n",
              "      <td>0.1588</td>\n",
              "      <td>30.3005</td>\n",
              "      <td>0.0882</td>\n",
              "      <td>0.0000</td>\n",
              "      <td>13.7184</td>\n",
              "      <td>1.5576</td>\n",
              "      <td>1.6591</td>\n",
              "      <td>0.9134</td>\n",
              "      <td>11.5386</td>\n",
              "      <td>...</td>\n",
              "      <td>1.3502</td>\n",
              "      <td>0.3309</td>\n",
              "      <td>24.9</td>\n",
              "      <td>&lt;2.5</td>\n",
              "      <td>10.408199</td>\n",
              "      <td>0.134405</td>\n",
              "      <td>9.039871</td>\n",
              "      <td>1.233923</td>\n",
              "      <td>622000.0</td>\n",
              "      <td>%</td>\n",
              "    </tr>\n",
              "  </tbody>\n",
              "</table>\n",
              "<p>154 rows × 32 columns</p>\n",
              "</div>"
            ],
            "text/plain": [
              "                              Country  Alcoholic Beverages  Animal Products  \\\n",
              "164                           Vanuatu               0.0078          19.8713   \n",
              "85   Lao People's Democratic Republic               0.0541          12.0786   \n",
              "160       United Republic of Tanzania               0.5436           7.8113   \n",
              "131                             Samoa               0.1866          30.9096   \n",
              "166                           Vietnam               0.1555          20.4466   \n",
              "..                                ...                  ...              ...   \n",
              "91                         Luxembourg               0.5940          31.7713   \n",
              "161          United States of America               0.2946          32.4775   \n",
              "138                          Slovenia               0.5488          27.4912   \n",
              "38                            Czechia               1.1737          30.7412   \n",
              "102                        Montenegro               0.1588          30.3005   \n",
              "\n",
              "     Animal fats  Aquatic Products, Other  Cereals - Excluding Beer    Eggs  \\\n",
              "164       0.0863                   0.0000                   14.6387  0.6119   \n",
              "85        0.1082                   0.0000                   25.5153  0.3365   \n",
              "160       0.0084                   0.0000                   19.2440  0.0836   \n",
              "131       0.1341                   0.1341                    8.4665  0.4023   \n",
              "166       0.1555                   0.0056                   18.5247  0.7665   \n",
              "..           ...                      ...                       ...     ...   \n",
              "91        0.2452                   0.0047                   10.4804  2.3148   \n",
              "161       0.0264                   0.0044                   10.4594  2.0048   \n",
              "138       0.6606                   0.0000                   15.5089  1.5092   \n",
              "38        0.3469                   0.0000                   12.3208  1.4801   \n",
              "102       0.0882                   0.0000                   13.7184  1.5576   \n",
              "\n",
              "     Fish, Seafood  Fruits - Excluding Wine     Meat  ...  Vegetables  \\\n",
              "164         6.8016                   1.1532   9.8533  ...      1.5847   \n",
              "85          4.5310                   1.9710   5.9912  ...      4.4408   \n",
              "160         1.8567                   1.4636   2.9857  ...      1.3883   \n",
              "131         7.3761                   1.6968  19.3878  ...      0.5364   \n",
              "166         5.7435                   0.7165  11.0426  ...      3.7216   \n",
              "..             ...                      ...      ...  ...         ...   \n",
              "91          3.9602                   0.7732  14.1577  ...      1.8717   \n",
              "161         2.3873                   0.5935  18.0875  ...      1.3981   \n",
              "138         1.6515                   0.7978  12.7954  ...      1.6769   \n",
              "38          1.5611                   0.5608  14.7375  ...      1.4801   \n",
              "102         1.6591                   0.9134  11.5386  ...      1.3502   \n",
              "\n",
              "     Miscellaneous  Obesity  Undernourished  Confirmed    Deaths  Recovered  \\\n",
              "164         0.1020     23.5             7.2   0.000312  0.000000   0.000312   \n",
              "85          0.1622      4.5            16.5   0.000621  0.000000   0.000566   \n",
              "160         0.0167      7.1            30.7   0.000852  0.000035   0.000306   \n",
              "131         0.3032     45.5             2.7   0.001000  0.000000   0.001000   \n",
              "166         0.0389      2.1             9.3   0.002063  0.000036   0.001526   \n",
              "..             ...      ...             ...        ...       ...        ...   \n",
              "91          0.3300     24.2            <2.5   8.150633  0.093354   7.661551   \n",
              "161         0.0000     37.3            <2.5   8.159922  0.140103   0.000000   \n",
              "138         0.1880     22.5            <2.5   8.235901  0.171755   7.312934   \n",
              "38          0.1561     28.5            <2.5   9.612841  0.159845   8.555328   \n",
              "102         0.3309     24.9            <2.5  10.408199  0.134405   9.039871   \n",
              "\n",
              "       Active   Population  Unit (all except Population)  \n",
              "164  0.000000     321000.0                             %  \n",
              "85   0.000055    7242000.0                             %  \n",
              "160  0.000511   59734000.0                             %  \n",
              "131  0.000000     200000.0                             %  \n",
              "166  0.000501   96209000.0                             %  \n",
              "..        ...          ...                           ...  \n",
              "91   0.395728     632000.0                             %  \n",
              "161  8.019819  329878000.0                             %  \n",
              "138  0.751213    2103000.0                             %  \n",
              "38   0.897667   10716000.0                             %  \n",
              "102  1.233923     622000.0                             %  \n",
              "\n",
              "[154 rows x 32 columns]"
            ]
          },
          "metadata": {
            "tags": []
          },
          "execution_count": 463
        }
      ]
    },
    {
      "cell_type": "code",
      "metadata": {
        "id": "Cdmk006E-6J9",
        "outputId": "46f52c82-5208-4390-ff9b-aeae95ad299b"
      },
      "source": [
        "dfFat = dfFat.groupby(pd.Index(np.arange(0, 154)) // 77).mean()\n",
        "dfFat "
      ],
      "execution_count": null,
      "outputs": [
        {
          "output_type": "execute_result",
          "data": {
            "text/html": [
              "<div>\n",
              "<style scoped>\n",
              "    .dataframe tbody tr th:only-of-type {\n",
              "        vertical-align: middle;\n",
              "    }\n",
              "\n",
              "    .dataframe tbody tr th {\n",
              "        vertical-align: top;\n",
              "    }\n",
              "\n",
              "    .dataframe thead th {\n",
              "        text-align: right;\n",
              "    }\n",
              "</style>\n",
              "<table border=\"1\" class=\"dataframe\">\n",
              "  <thead>\n",
              "    <tr style=\"text-align: right;\">\n",
              "      <th></th>\n",
              "      <th>Alcoholic Beverages</th>\n",
              "      <th>Animal Products</th>\n",
              "      <th>Animal fats</th>\n",
              "      <th>Aquatic Products, Other</th>\n",
              "      <th>Cereals - Excluding Beer</th>\n",
              "      <th>Eggs</th>\n",
              "      <th>Fish, Seafood</th>\n",
              "      <th>Fruits - Excluding Wine</th>\n",
              "      <th>Meat</th>\n",
              "      <th>Miscellaneous</th>\n",
              "      <th>...</th>\n",
              "      <th>Treenuts</th>\n",
              "      <th>Vegetal Products</th>\n",
              "      <th>Vegetable Oils</th>\n",
              "      <th>Vegetables</th>\n",
              "      <th>Obesity</th>\n",
              "      <th>Confirmed</th>\n",
              "      <th>Deaths</th>\n",
              "      <th>Recovered</th>\n",
              "      <th>Active</th>\n",
              "      <th>Population</th>\n",
              "    </tr>\n",
              "  </thead>\n",
              "  <tbody>\n",
              "    <tr>\n",
              "      <th>0</th>\n",
              "      <td>0.002284</td>\n",
              "      <td>16.387994</td>\n",
              "      <td>2.627938</td>\n",
              "      <td>0.000994</td>\n",
              "      <td>5.798426</td>\n",
              "      <td>0.660452</td>\n",
              "      <td>0.988332</td>\n",
              "      <td>0.617764</td>\n",
              "      <td>8.195181</td>\n",
              "      <td>0.048606</td>\n",
              "      <td>...</td>\n",
              "      <td>0.445788</td>\n",
              "      <td>33.612304</td>\n",
              "      <td>19.608282</td>\n",
              "      <td>0.301931</td>\n",
              "      <td>12.449351</td>\n",
              "      <td>0.253807</td>\n",
              "      <td>0.004472</td>\n",
              "      <td>0.213549</td>\n",
              "      <td>0.035787</td>\n",
              "      <td>6.934373e+07</td>\n",
              "    </tr>\n",
              "    <tr>\n",
              "      <th>1</th>\n",
              "      <td>0.000000</td>\n",
              "      <td>24.354732</td>\n",
              "      <td>5.684321</td>\n",
              "      <td>0.000000</td>\n",
              "      <td>3.142819</td>\n",
              "      <td>1.233696</td>\n",
              "      <td>0.662460</td>\n",
              "      <td>0.455922</td>\n",
              "      <td>9.954918</td>\n",
              "      <td>0.052958</td>\n",
              "      <td>...</td>\n",
              "      <td>1.008773</td>\n",
              "      <td>25.645453</td>\n",
              "      <td>18.041923</td>\n",
              "      <td>0.311804</td>\n",
              "      <td>24.449351</td>\n",
              "      <td>3.866507</td>\n",
              "      <td>0.075292</td>\n",
              "      <td>2.715935</td>\n",
              "      <td>1.075279</td>\n",
              "      <td>2.658784e+07</td>\n",
              "    </tr>\n",
              "  </tbody>\n",
              "</table>\n",
              "<p>2 rows × 29 columns</p>\n",
              "</div>"
            ],
            "text/plain": [
              "   Alcoholic Beverages  Animal Products  Animal fats  Aquatic Products, Other  \\\n",
              "0             0.002284        16.387994     2.627938                 0.000994   \n",
              "1             0.000000        24.354732     5.684321                 0.000000   \n",
              "\n",
              "   Cereals - Excluding Beer      Eggs  Fish, Seafood  Fruits - Excluding Wine  \\\n",
              "0                  5.798426  0.660452       0.988332                 0.617764   \n",
              "1                  3.142819  1.233696       0.662460                 0.455922   \n",
              "\n",
              "       Meat  Miscellaneous  ...  Treenuts  Vegetal Products  Vegetable Oils  \\\n",
              "0  8.195181       0.048606  ...  0.445788         33.612304       19.608282   \n",
              "1  9.954918       0.052958  ...  1.008773         25.645453       18.041923   \n",
              "\n",
              "   Vegetables    Obesity  Confirmed    Deaths  Recovered    Active  \\\n",
              "0    0.301931  12.449351   0.253807  0.004472   0.213549  0.035787   \n",
              "1    0.311804  24.449351   3.866507  0.075292   2.715935  1.075279   \n",
              "\n",
              "     Population  \n",
              "0  6.934373e+07  \n",
              "1  2.658784e+07  \n",
              "\n",
              "[2 rows x 29 columns]"
            ]
          },
          "metadata": {
            "tags": []
          },
          "execution_count": 464
        }
      ]
    },
    {
      "cell_type": "code",
      "metadata": {
        "id": "zJ_lGeJz-6J-",
        "outputId": "f6d97023-a9f0-4446-d8ff-a1e89fcb1f6b"
      },
      "source": [
        "dfProteinQ = dfProteinQ.groupby(pd.Index(np.arange(0, 154)) // 77).mean()\n",
        "dfProteinQ"
      ],
      "execution_count": null,
      "outputs": [
        {
          "output_type": "execute_result",
          "data": {
            "text/html": [
              "<div>\n",
              "<style scoped>\n",
              "    .dataframe tbody tr th:only-of-type {\n",
              "        vertical-align: middle;\n",
              "    }\n",
              "\n",
              "    .dataframe tbody tr th {\n",
              "        vertical-align: top;\n",
              "    }\n",
              "\n",
              "    .dataframe thead th {\n",
              "        text-align: right;\n",
              "    }\n",
              "</style>\n",
              "<table border=\"1\" class=\"dataframe\">\n",
              "  <thead>\n",
              "    <tr style=\"text-align: right;\">\n",
              "      <th></th>\n",
              "      <th>Alcoholic Beverages</th>\n",
              "      <th>Animal Products</th>\n",
              "      <th>Animal fats</th>\n",
              "      <th>Aquatic Products, Other</th>\n",
              "      <th>Cereals - Excluding Beer</th>\n",
              "      <th>Eggs</th>\n",
              "      <th>Fish, Seafood</th>\n",
              "      <th>Fruits - Excluding Wine</th>\n",
              "      <th>Meat</th>\n",
              "      <th>Milk - Excluding Butter</th>\n",
              "      <th>...</th>\n",
              "      <th>Vegetal Products</th>\n",
              "      <th>Vegetable Oils</th>\n",
              "      <th>Vegetables</th>\n",
              "      <th>Miscellaneous</th>\n",
              "      <th>Obesity</th>\n",
              "      <th>Confirmed</th>\n",
              "      <th>Deaths</th>\n",
              "      <th>Recovered</th>\n",
              "      <th>Active</th>\n",
              "      <th>Population</th>\n",
              "    </tr>\n",
              "  </thead>\n",
              "  <tbody>\n",
              "    <tr>\n",
              "      <th>0</th>\n",
              "      <td>0.221338</td>\n",
              "      <td>16.352970</td>\n",
              "      <td>0.052418</td>\n",
              "      <td>0.018586</td>\n",
              "      <td>21.797179</td>\n",
              "      <td>0.71284</td>\n",
              "      <td>3.704518</td>\n",
              "      <td>0.866878</td>\n",
              "      <td>7.433355</td>\n",
              "      <td>3.610439</td>\n",
              "      <td>...</td>\n",
              "      <td>33.646831</td>\n",
              "      <td>0.012143</td>\n",
              "      <td>1.575290</td>\n",
              "      <td>0.144145</td>\n",
              "      <td>12.449351</td>\n",
              "      <td>0.253807</td>\n",
              "      <td>0.004472</td>\n",
              "      <td>0.213549</td>\n",
              "      <td>0.035787</td>\n",
              "      <td>6.934373e+07</td>\n",
              "    </tr>\n",
              "    <tr>\n",
              "      <th>1</th>\n",
              "      <td>0.321335</td>\n",
              "      <td>25.137677</td>\n",
              "      <td>0.159901</td>\n",
              "      <td>0.001044</td>\n",
              "      <td>16.951262</td>\n",
              "      <td>1.58419</td>\n",
              "      <td>2.641021</td>\n",
              "      <td>0.825339</td>\n",
              "      <td>11.576438</td>\n",
              "      <td>8.426535</td>\n",
              "      <td>...</td>\n",
              "      <td>24.863119</td>\n",
              "      <td>0.028494</td>\n",
              "      <td>1.839869</td>\n",
              "      <td>0.176821</td>\n",
              "      <td>24.449351</td>\n",
              "      <td>3.866507</td>\n",
              "      <td>0.075292</td>\n",
              "      <td>2.715935</td>\n",
              "      <td>1.075279</td>\n",
              "      <td>2.658784e+07</td>\n",
              "    </tr>\n",
              "  </tbody>\n",
              "</table>\n",
              "<p>2 rows × 29 columns</p>\n",
              "</div>"
            ],
            "text/plain": [
              "   Alcoholic Beverages  Animal Products  Animal fats  Aquatic Products, Other  \\\n",
              "0             0.221338        16.352970     0.052418                 0.018586   \n",
              "1             0.321335        25.137677     0.159901                 0.001044   \n",
              "\n",
              "   Cereals - Excluding Beer     Eggs  Fish, Seafood  Fruits - Excluding Wine  \\\n",
              "0                 21.797179  0.71284       3.704518                 0.866878   \n",
              "1                 16.951262  1.58419       2.641021                 0.825339   \n",
              "\n",
              "        Meat  Milk - Excluding Butter  ...  Vegetal Products  Vegetable Oils  \\\n",
              "0   7.433355                 3.610439  ...         33.646831        0.012143   \n",
              "1  11.576438                 8.426535  ...         24.863119        0.028494   \n",
              "\n",
              "   Vegetables  Miscellaneous    Obesity  Confirmed    Deaths  Recovered  \\\n",
              "0    1.575290       0.144145  12.449351   0.253807  0.004472   0.213549   \n",
              "1    1.839869       0.176821  24.449351   3.866507  0.075292   2.715935   \n",
              "\n",
              "     Active    Population  \n",
              "0  0.035787  6.934373e+07  \n",
              "1  1.075279  2.658784e+07  \n",
              "\n",
              "[2 rows x 29 columns]"
            ]
          },
          "metadata": {
            "tags": []
          },
          "execution_count": 465
        }
      ]
    },
    {
      "cell_type": "code",
      "metadata": {
        "id": "6N5FD7sA-6J-",
        "outputId": "947755ce-8293-47b9-b183-a50c9a4a95e2"
      },
      "source": [
        "fatL, fatH = dfFat.iloc[0][0:23], dfFat.iloc[1][0:23]\n",
        "print(fatL, fatH)"
      ],
      "execution_count": null,
      "outputs": [
        {
          "output_type": "stream",
          "text": [
            "Alcoholic Beverages          0.002284\n",
            "Animal Products             16.387994\n",
            "Animal fats                  2.627938\n",
            "Aquatic Products, Other      0.000994\n",
            "Cereals - Excluding Beer     5.798426\n",
            "Eggs                         0.660452\n",
            "Fish, Seafood                0.988332\n",
            "Fruits - Excluding Wine      0.617764\n",
            "Meat                         8.195181\n",
            "Miscellaneous                0.048606\n",
            "Milk - Excluding Butter      3.737966\n",
            "Offals                       0.176747\n",
            "Oilcrops                     5.322717\n",
            "Pulses                       0.402784\n",
            "Spices                       0.358888\n",
            "Starchy Roots                0.379264\n",
            "Stimulants                   0.315055\n",
            "Sugar Crops                  0.008601\n",
            "Sugar & Sweeteners           0.001716\n",
            "Treenuts                     0.445788\n",
            "Vegetal Products            33.612304\n",
            "Vegetable Oils              19.608282\n",
            "Vegetables                   0.301931\n",
            "Name: 0, dtype: float64 Alcoholic Beverages          0.000000\n",
            "Animal Products             24.354732\n",
            "Animal fats                  5.684321\n",
            "Aquatic Products, Other      0.000000\n",
            "Cereals - Excluding Beer     3.142819\n",
            "Eggs                         1.233696\n",
            "Fish, Seafood                0.662460\n",
            "Fruits - Excluding Wine      0.455922\n",
            "Meat                         9.954918\n",
            "Miscellaneous                0.052958\n",
            "Milk - Excluding Butter      6.690601\n",
            "Offals                       0.128448\n",
            "Oilcrops                     1.197831\n",
            "Pulses                       0.138799\n",
            "Spices                       0.222694\n",
            "Starchy Roots                0.105294\n",
            "Stimulants                   0.965747\n",
            "Sugar Crops                  0.000469\n",
            "Sugar & Sweeteners           0.000335\n",
            "Treenuts                     1.008773\n",
            "Vegetal Products            25.645453\n",
            "Vegetable Oils              18.041923\n",
            "Vegetables                   0.311804\n",
            "Name: 1, dtype: float64\n"
          ],
          "name": "stdout"
        }
      ]
    },
    {
      "cell_type": "code",
      "metadata": {
        "id": "9m3zEe0w-6J-",
        "outputId": "6f3e5309-b18a-45d3-98a6-b47ff3fa1de0"
      },
      "source": [
        "proteinL, proteinH = dfProteinQ.iloc[0][0:23], dfProteinQ.iloc[1][0:23]\n",
        "print(proteinL, proteinH)"
      ],
      "execution_count": null,
      "outputs": [
        {
          "output_type": "stream",
          "text": [
            "Alcoholic Beverages          0.221338\n",
            "Animal Products             16.352970\n",
            "Animal fats                  0.052418\n",
            "Aquatic Products, Other      0.018586\n",
            "Cereals - Excluding Beer    21.797179\n",
            "Eggs                         0.712840\n",
            "Fish, Seafood                3.704518\n",
            "Fruits - Excluding Wine      0.866878\n",
            "Meat                         7.433355\n",
            "Milk - Excluding Butter      3.610439\n",
            "Offals                       0.822175\n",
            "Oilcrops                     2.089979\n",
            "Pulses                       3.832714\n",
            "Spices                       0.285779\n",
            "Starchy Roots                2.327113\n",
            "Stimulants                   0.320114\n",
            "Sugar Crops                  0.007522\n",
            "Sugar & Sweeteners           0.005125\n",
            "Treenuts                     0.160540\n",
            "Vegetal Products            33.646831\n",
            "Vegetable Oils               0.012143\n",
            "Vegetables                   1.575290\n",
            "Miscellaneous                0.144145\n",
            "Name: 0, dtype: float64 Alcoholic Beverages          0.321335\n",
            "Animal Products             25.137677\n",
            "Animal fats                  0.159901\n",
            "Aquatic Products, Other      0.001044\n",
            "Cereals - Excluding Beer    16.951262\n",
            "Eggs                         1.584190\n",
            "Fish, Seafood                2.641021\n",
            "Fruits - Excluding Wine      0.825339\n",
            "Meat                        11.576438\n",
            "Milk - Excluding Butter      8.426535\n",
            "Offals                       0.747475\n",
            "Oilcrops                     0.626648\n",
            "Pulses                       1.654800\n",
            "Spices                       0.190330\n",
            "Starchy Roots                1.302818\n",
            "Stimulants                   0.594458\n",
            "Sugar Crops                  0.000999\n",
            "Sugar & Sweeteners           0.011647\n",
            "Treenuts                     0.337773\n",
            "Vegetal Products            24.863119\n",
            "Vegetable Oils               0.028494\n",
            "Vegetables                   1.839869\n",
            "Miscellaneous                0.176821\n",
            "Name: 1, dtype: float64\n"
          ],
          "name": "stdout"
        }
      ]
    },
    {
      "cell_type": "code",
      "metadata": {
        "id": "D-GPTP4L-6J-",
        "outputId": "861c2d4f-a496-43f9-c171-2d04fc35e8d9"
      },
      "source": [
        "covid_19_cases = dfFat[['Confirmed', 'Deaths', 'Recovered', 'Active']]\n",
        "covid_19_cases"
      ],
      "execution_count": null,
      "outputs": [
        {
          "output_type": "execute_result",
          "data": {
            "text/html": [
              "<div>\n",
              "<style scoped>\n",
              "    .dataframe tbody tr th:only-of-type {\n",
              "        vertical-align: middle;\n",
              "    }\n",
              "\n",
              "    .dataframe tbody tr th {\n",
              "        vertical-align: top;\n",
              "    }\n",
              "\n",
              "    .dataframe thead th {\n",
              "        text-align: right;\n",
              "    }\n",
              "</style>\n",
              "<table border=\"1\" class=\"dataframe\">\n",
              "  <thead>\n",
              "    <tr style=\"text-align: right;\">\n",
              "      <th></th>\n",
              "      <th>Confirmed</th>\n",
              "      <th>Deaths</th>\n",
              "      <th>Recovered</th>\n",
              "      <th>Active</th>\n",
              "    </tr>\n",
              "  </thead>\n",
              "  <tbody>\n",
              "    <tr>\n",
              "      <th>0</th>\n",
              "      <td>0.253807</td>\n",
              "      <td>0.004472</td>\n",
              "      <td>0.213549</td>\n",
              "      <td>0.035787</td>\n",
              "    </tr>\n",
              "    <tr>\n",
              "      <th>1</th>\n",
              "      <td>3.866507</td>\n",
              "      <td>0.075292</td>\n",
              "      <td>2.715935</td>\n",
              "      <td>1.075279</td>\n",
              "    </tr>\n",
              "  </tbody>\n",
              "</table>\n",
              "</div>"
            ],
            "text/plain": [
              "   Confirmed    Deaths  Recovered    Active\n",
              "0   0.253807  0.004472   0.213549  0.035787\n",
              "1   3.866507  0.075292   2.715935  1.075279"
            ]
          },
          "metadata": {
            "tags": []
          },
          "execution_count": 468
        }
      ]
    },
    {
      "cell_type": "markdown",
      "metadata": {
        "id": "urVRw4Kb-6J_"
      },
      "source": [
        "## COVID-19 Cases Visualization"
      ]
    },
    {
      "cell_type": "code",
      "metadata": {
        "id": "rQ4-j6iE-6J_",
        "outputId": "2c58629e-1cb2-4cc1-864e-93d1277060bb"
      },
      "source": [
        "labels = conid_19_cases.columns\n",
        "lower = covid_19_cases.iloc[0]\n",
        "higher = covid_19_cases.iloc[1]\n",
        "\n",
        "x = np.arange(len(labels))  # the label locations\n",
        "width = 0.35  # the width of the bars\n",
        "\n",
        "fig, ax = plt.subplots(figsize=(10, 10))\n",
        "rects1 = ax.bar(x - width/2, lower, width, label='Lower Confirmed')\n",
        "rects2 = ax.bar(x + width/2, higher, width, label='Higher Confirmed')\n",
        "\n",
        "# Add some text for labels, title and custom x-axis tick labels, etc.\n",
        "ax.set_ylabel('Rate (%)')\n",
        "ax.set_title('COVID-19 Cases Comparision between Lower Confirmed and Higher Confirmed Rate Countries')\n",
        "ax.set_xticks(x)\n",
        "ax.set_xticklabels(labels)\n",
        "ax.legend()\n",
        "\n",
        "def autolabel(rects):\n",
        "    \"\"\"Attach a text label above each bar in *rects*, displaying its height.\"\"\"\n",
        "    for rect in rects:\n",
        "        height = rect.get_height()\n",
        "        ax.annotate('{:.4f}'.format(height),\n",
        "                    xy=(rect.get_x() + rect.get_width() / 2, height),\n",
        "                    xytext=(0, 3),  # 3 points vertical offset\n",
        "                    textcoords=\"offset points\",\n",
        "                    ha='center', va='bottom')\n",
        "\n",
        "\n",
        "autolabel(rects1)\n",
        "autolabel(rects2)\n",
        "\n",
        "fig.tight_layout()\n",
        "\n",
        "plt.show()"
      ],
      "execution_count": null,
      "outputs": [
        {
          "output_type": "display_data",
          "data": {
            "image/png": "[encoded data removed]",
            "text/plain": [
              "<Figure size 720x360 with 1 Axes>"
            ]
          },
          "metadata": {
            "tags": []
          }
        }
      ]
    },
    {
      "cell_type": "markdown",
      "metadata": {
        "id": "h5WtwVXZ-6J_"
      },
      "source": [
        "## Diet Structure Comparison and Analysis"
      ]
    },
    {
      "cell_type": "code",
      "metadata": {
        "id": "mVV60Cmx-6J_",
        "outputId": "6b3306a2-3eae-4e74-f08a-1e1e9e3eb3b2"
      },
      "source": [
        "labels = fatH.index\n",
        "\n",
        "x = np.arange(len(labels))  # the label locations\n",
        "width = 0.35  # the width of the bars\n",
        "\n",
        "fig, ax = plt.subplots(figsize=(10, 10))\n",
        "rects1 = ax.barh(x - width/2, fatL, width, label='Lower Confirmed')\n",
        "rects2 = ax.barh(x + width/2, fatH, width, label='Higher Confirmed')\n",
        "\n",
        "# Add some text for labels, title and custom x-axis tick labels, etc.\n",
        "ax.set_xlabel('Scores')\n",
        "ax.set_title('Fat Supply Quantity Data Comparision')\n",
        "ax.set_yticks(x)\n",
        "ax.set_yticklabels(labels)\n",
        "ax.invert_yaxis()\n",
        "ax.legend()\n",
        "\n",
        "fig.tight_layout()\n",
        "\n",
        "plt.show()"
      ],
      "execution_count": null,
      "outputs": [
        {
          "output_type": "display_data",
          "data": {
            "image/png": "[encoded data removed]",
            "text/plain": [
              "<Figure size 720x720 with 1 Axes>"
            ]
          },
          "metadata": {
            "tags": []
          }
        }
      ]
    },
    {
      "cell_type": "markdown",
      "metadata": {
        "id": "wSOYyMUO-6J_"
      },
      "source": [
        "You can see that the differences are obvious. You can know that people in those countries with lower confirmed rate have lower fat intake from Animal Product, Animal Fats, Meat and Milk-Excluding Buffer than those countries with higher confirmed rate. And they have higher fat intake from Vegetal Products and Vegetable Oils. "
      ]
    },
    {
      "cell_type": "code",
      "metadata": {
        "id": "FmD8nFzn-6KA",
        "outputId": "c0426f33-eacb-4dce-ebee-860330453f63"
      },
      "source": [
        "labels = proteinH.index\n",
        "\n",
        "x = np.arange(len(labels))  # the label locations\n",
        "width = 0.35  # the width of the bars\n",
        "\n",
        "fig, ax = plt.subplots(figsize=(10, 14))\n",
        "rects1 = ax.barh(x - width/2, proteinL, width, label='Lower Confirmed')\n",
        "rects2 = ax.barh(x + width/2, proteinH, width, label='Higher Confirmed')\n",
        "\n",
        "# Add some text for labels, title and custom x-axis tick labels, etc.\n",
        "ax.set_xlabel('Scores')\n",
        "ax.set_title('Protein Supply Quantity Consumption')\n",
        "ax.set_yticks(x)\n",
        "ax.set_yticklabels(labels)\n",
        "ax.invert_yaxis()\n",
        "ax.legend()\n",
        "\n",
        "fig.tight_layout()\n",
        "\n",
        "plt.show()"
      ],
      "execution_count": null,
      "outputs": [
        {
          "output_type": "display_data",
          "data": {
            "image/png": "[encoded data removed]",
            "text/plain": [
              "<Figure size 720x1008 with 1 Axes>"
            ]
          },
          "metadata": {
            "tags": []
          }
        }
      ]
    },
    {
      "cell_type": "markdown",
      "metadata": {
        "id": "G-QX8ssR-6KA"
      },
      "source": [
        "You can see that the differences are obvious. You can know that people in those countries with lower confirmed rate have lower protein intake from Animal Product, Meat and Milk-Excluding Buffer than those countries with higher confirmed rate. And they have higher protein intake from Cereals-Excluding Beer, and Vegetal Products."
      ]
    }
  ]
}